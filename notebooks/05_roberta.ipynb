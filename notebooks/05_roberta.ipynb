{
 "cells": [
  {
   "cell_type": "markdown",
   "id": "77c83132",
   "metadata": {},
   "source": [
    "# Training RoBERTa for binary classification"
   ]
  },
  {
   "cell_type": "markdown",
   "id": "ea312fdb",
   "metadata": {},
   "source": [
    "## 0. Setup"
   ]
  },
  {
   "cell_type": "code",
   "execution_count": null,
   "id": "32f084b0",
   "metadata": {},
   "outputs": [
    {
     "name": "stderr",
     "output_type": "stream",
     "text": [
      "/opt/anaconda/envs/keble8263-sdoh-extraction/lib/python3.10/site-packages/transformers/utils/hub.py:111: FutureWarning: Using `TRANSFORMERS_CACHE` is deprecated and will be removed in v5 of Transformers. Use `HF_HOME` instead.\n",
      "  warnings.warn(\n"
     ]
    }
   ],
   "source": [
    "import os\n",
    "import pandas as pd\n",
    "import torch\n",
    "import torch.nn as nn\n",
    "from torch.utils.data import Dataset\n",
    "from transformers import (\n",
    "    RobertaTokenizer,\n",
    "    RobertaModel,\n",
    "    RobertaPreTrainedModel,\n",
    "    RobertaConfig,\n",
    "    Trainer,\n",
    "    TrainingArguments,\n",
    "    DataCollatorWithPadding\n",
    ")\n",
    "from sklearn.metrics import classification_report\n",
    "\n",
    "# Paths\n",
    "cache_dir = \"/data/resource/huggingface/hub\"\n",
    "train_df = pd.read_csv(\"../data/processed/train-test/train_set.csv\")\n",
    "test_df = pd.read_csv(\"../data/processed/train-test/test_set.csv\")\n",
    "model_output_dir = \"../results/model_training/roberta_binary_sdoh\""
   ]
  },
  {
   "cell_type": "markdown",
   "id": "ede3303c",
   "metadata": {},
   "source": [
    "## 1. Preprocess binary labels and compute weights"
   ]
  },
  {
   "cell_type": "code",
   "execution_count": 2,
   "id": "866c3472",
   "metadata": {},
   "outputs": [],
   "source": [
    "def is_sdoh_label(label_str):\n",
    "    labels = label_str.strip(\"<LIST>\").strip(\"</LIST>\").split(\",\")\n",
    "    return int(not (len(labels) == 1 and labels[0] == \"NoSDoH\"))\n",
    "\n",
    "train_df['binary_label'] = train_df['completion'].apply(is_sdoh_label)\n",
    "test_df['binary_label'] = test_df['completion'].apply(is_sdoh_label)"
   ]
  },
  {
   "cell_type": "code",
   "execution_count": 3,
   "id": "31a27419",
   "metadata": {},
   "outputs": [
    {
     "name": "stdout",
     "output_type": "stream",
     "text": [
      "[INFO] Positive samples: 228, Negative samples: 336, pos_weight: 1.47\n"
     ]
    }
   ],
   "source": [
    "num_pos = train_df['binary_label'].sum()\n",
    "num_neg = len(train_df) - num_pos\n",
    "pos_weight_val = num_neg / num_pos\n",
    "print(f\"[INFO] Positive samples: {num_pos}, Negative samples: {num_neg}, pos_weight: {pos_weight_val:.2f}\")"
   ]
  },
  {
   "cell_type": "code",
   "execution_count": 4,
   "id": "2ecdeb7f",
   "metadata": {},
   "outputs": [],
   "source": [
    "class BinarySDoHDataset(Dataset):\n",
    "    def __init__(self, dataframe, tokenizer):\n",
    "        self.texts = dataframe['Sentence'].tolist()\n",
    "        self.labels = dataframe['binary_label'].tolist()\n",
    "        self.tokenizer = tokenizer\n",
    "\n",
    "    def __len__(self):\n",
    "        return len(self.texts)\n",
    "\n",
    "    def __getitem__(self, idx):\n",
    "        encoding = self.tokenizer(\n",
    "            self.texts[idx],\n",
    "            truncation=True,\n",
    "            padding='max_length',\n",
    "            max_length=128,\n",
    "            return_tensors='pt'\n",
    "        )\n",
    "        item = {k: v.squeeze() for k, v in encoding.items()}\n",
    "        item['labels'] = torch.tensor(self.labels[idx], dtype=torch.float)\n",
    "        return item"
   ]
  },
  {
   "cell_type": "markdown",
   "id": "3cdac0a3",
   "metadata": {},
   "source": [
    "## 2. Create model with class weights"
   ]
  },
  {
   "cell_type": "code",
   "execution_count": 5,
   "id": "ec6b530d",
   "metadata": {},
   "outputs": [],
   "source": [
    "class RobertaBinaryClassifierWithWeight(RobertaPreTrainedModel):\n",
    "    def __init__(self, config, pos_weight):\n",
    "        super().__init__(config)\n",
    "        self.roberta = RobertaModel(config)\n",
    "        self.dropout = nn.Dropout(0.3)\n",
    "        self.classifier = nn.Linear(config.hidden_size, 1)\n",
    "        self.loss_fct = nn.BCEWithLogitsLoss(pos_weight=torch.tensor([pos_weight]))\n",
    "        self.init_weights()\n",
    "\n",
    "    def forward(self, input_ids=None, attention_mask=None, labels=None):\n",
    "        outputs = self.roberta(input_ids, attention_mask=attention_mask)\n",
    "        pooled_output = self.dropout(outputs.last_hidden_state[:, 0, :])  # CLS token\n",
    "        logits = self.classifier(pooled_output)\n",
    "\n",
    "        if labels is not None:\n",
    "            labels = labels.unsqueeze(1)  # shape: [batch_size, 1]\n",
    "            loss = self.loss_fct(logits, labels)\n",
    "            return {'loss': loss, 'logits': logits}\n",
    "        return {'logits': logits}"
   ]
  },
  {
   "cell_type": "markdown",
   "id": "43328047",
   "metadata": {},
   "source": [
    "## 3. Load tokenizer and config from cache"
   ]
  },
  {
   "cell_type": "code",
   "execution_count": 19,
   "id": "feb945d2",
   "metadata": {},
   "outputs": [
    {
     "name": "stderr",
     "output_type": "stream",
     "text": [
      "Some weights of RobertaModel were not initialized from the model checkpoint at roberta-base and are newly initialized: ['pooler.dense.bias', 'pooler.dense.weight']\n",
      "You should probably TRAIN this model on a down-stream task to be able to use it for predictions and inference.\n"
     ]
    }
   ],
   "source": [
    "# model_name = \"roberta-large\"\n",
    "model_name = \"roberta-base\"\n",
    "tokenizer = RobertaTokenizer.from_pretrained(model_name, cache_dir=cache_dir, local_files_only=True)\n",
    "config = RobertaConfig.from_pretrained(model_name, cache_dir=cache_dir, local_files_only=True)\n",
    "model = RobertaBinaryClassifierWithWeight(config, pos_weight=pos_weight_val)\n",
    "model.roberta = RobertaModel.from_pretrained(model_name, config=config, cache_dir=cache_dir, local_files_only=True)"
   ]
  },
  {
   "cell_type": "code",
   "execution_count": 22,
   "id": "cc494d6c",
   "metadata": {},
   "outputs": [],
   "source": [
    "# # Roberta Large has 24 layers, freeze bottom 18 layers\n",
    "# # Freeze bottom 18 of 24 encoder layers\n",
    "# for name, param in model.roberta.named_parameters():\n",
    "#     if any(f\"encoder.layer.{i}.\" in name for i in range(18)):\n",
    "#         param.requires_grad = False\n",
    "\n",
    "# Roberta Base has 12 layers, freeze bottom 10 layers\n",
    "for name, param in model.roberta.named_parameters():\n",
    "    if any(f\"encoder.layer.{i}.\" in name for i in range(10)):\n",
    "        param.requires_grad = False"
   ]
  },
  {
   "cell_type": "code",
   "execution_count": 23,
   "id": "c2db4550",
   "metadata": {},
   "outputs": [
    {
     "name": "stdout",
     "output_type": "stream",
     "text": [
      "[INFO] Total parameters: 124,646,401\n",
      "[INFO] Trainable parameters: 53,767,681 (43.14%)\n"
     ]
    }
   ],
   "source": [
    "def count_parameters(model):\n",
    "    total = sum(p.numel() for p in model.parameters())\n",
    "    trainable = sum(p.numel() for p in model.parameters() if p.requires_grad)\n",
    "    print(f\"[INFO] Total parameters: {total:,}\")\n",
    "    print(f\"[INFO] Trainable parameters: {trainable:,} ({trainable / total:.2%})\")\n",
    "\n",
    "count_parameters(model)"
   ]
  },
  {
   "cell_type": "markdown",
   "id": "e480690e",
   "metadata": {},
   "source": [
    "## 4. Training setup and train"
   ]
  },
  {
   "cell_type": "code",
   "execution_count": 30,
   "id": "f10de429",
   "metadata": {},
   "outputs": [
    {
     "name": "stderr",
     "output_type": "stream",
     "text": [
      "/tmp/ipykernel_2749985/1964560415.py:20: FutureWarning: `tokenizer` is deprecated and will be removed in version 5.0.0 for `Trainer.__init__`. Use `processing_class` instead.\n",
      "  trainer = Trainer(\n"
     ]
    }
   ],
   "source": [
    "train_dataset = BinarySDoHDataset(train_df, tokenizer)\n",
    "test_dataset = BinarySDoHDataset(test_df, tokenizer)\n",
    "\n",
    "training_args = TrainingArguments(\n",
    "    output_dir=model_output_dir,\n",
    "    eval_strategy=\"epoch\",\n",
    "    save_strategy=\"epoch\",\n",
    "    per_device_train_batch_size=16,\n",
    "    per_device_eval_batch_size=16,\n",
    "    learning_rate=9e-5,\n",
    "    num_train_epochs=10,\n",
    "    logging_dir=os.path.join(model_output_dir, \"logs\"),\n",
    "    load_best_model_at_end=True,\n",
    "    metric_for_best_model=\"eval_loss\",\n",
    "    save_total_limit=1,\n",
    "    report_to=[],\n",
    "    run_name=\"binary_sdoh_classifier_roberta\"\n",
    ")\n",
    "\n",
    "trainer = Trainer(\n",
    "    model=model,\n",
    "    args=training_args,\n",
    "    train_dataset=train_dataset,\n",
    "    eval_dataset=test_dataset,\n",
    "    tokenizer=tokenizer,\n",
    "    data_collator=DataCollatorWithPadding(tokenizer),\n",
    ")"
   ]
  },
  {
   "cell_type": "code",
   "execution_count": 31,
   "id": "da648dc0",
   "metadata": {},
   "outputs": [
    {
     "name": "stderr",
     "output_type": "stream",
     "text": [
      "/opt/anaconda/envs/keble8263-sdoh-extraction/lib/python3.10/site-packages/torch/nn/parallel/data_parallel.py:37: UserWarning: \n",
      "    There is an imbalance between your GPUs. You may want to exclude GPU 0 which\n",
      "    has less than 75% of the memory or cores of GPU 2. You can do so by setting\n",
      "    the device_ids argument to DataParallel, or by setting the CUDA_VISIBLE_DEVICES\n",
      "    environment variable.\n",
      "  warnings.warn(\n",
      "/opt/anaconda/envs/keble8263-sdoh-extraction/lib/python3.10/site-packages/torch/nn/parallel/_functions.py:70: UserWarning: Was asked to gather along dimension 0, but all input tensors were scalars; will instead unsqueeze and return a vector.\n",
      "  warnings.warn(\n"
     ]
    },
    {
     "data": {
      "text/html": [
       "\n",
       "    <div>\n",
       "      \n",
       "      <progress value='90' max='90' style='width:300px; height:20px; vertical-align: middle;'></progress>\n",
       "      [90/90 00:40, Epoch 10/10]\n",
       "    </div>\n",
       "    <table border=\"1\" class=\"dataframe\">\n",
       "  <thead>\n",
       " <tr style=\"text-align: left;\">\n",
       "      <th>Epoch</th>\n",
       "      <th>Training Loss</th>\n",
       "      <th>Validation Loss</th>\n",
       "    </tr>\n",
       "  </thead>\n",
       "  <tbody>\n",
       "    <tr>\n",
       "      <td>1</td>\n",
       "      <td>No log</td>\n",
       "      <td>0.477094</td>\n",
       "    </tr>\n",
       "    <tr>\n",
       "      <td>2</td>\n",
       "      <td>No log</td>\n",
       "      <td>0.365082</td>\n",
       "    </tr>\n",
       "    <tr>\n",
       "      <td>3</td>\n",
       "      <td>No log</td>\n",
       "      <td>0.328899</td>\n",
       "    </tr>\n",
       "    <tr>\n",
       "      <td>4</td>\n",
       "      <td>No log</td>\n",
       "      <td>0.351796</td>\n",
       "    </tr>\n",
       "    <tr>\n",
       "      <td>5</td>\n",
       "      <td>No log</td>\n",
       "      <td>0.370145</td>\n",
       "    </tr>\n",
       "    <tr>\n",
       "      <td>6</td>\n",
       "      <td>No log</td>\n",
       "      <td>0.421200</td>\n",
       "    </tr>\n",
       "    <tr>\n",
       "      <td>7</td>\n",
       "      <td>No log</td>\n",
       "      <td>0.380856</td>\n",
       "    </tr>\n",
       "    <tr>\n",
       "      <td>8</td>\n",
       "      <td>No log</td>\n",
       "      <td>0.422266</td>\n",
       "    </tr>\n",
       "    <tr>\n",
       "      <td>9</td>\n",
       "      <td>No log</td>\n",
       "      <td>0.388175</td>\n",
       "    </tr>\n",
       "    <tr>\n",
       "      <td>10</td>\n",
       "      <td>No log</td>\n",
       "      <td>0.392821</td>\n",
       "    </tr>\n",
       "  </tbody>\n",
       "</table><p>"
      ],
      "text/plain": [
       "<IPython.core.display.HTML object>"
      ]
     },
     "metadata": {},
     "output_type": "display_data"
    },
    {
     "name": "stderr",
     "output_type": "stream",
     "text": [
      "/opt/anaconda/envs/keble8263-sdoh-extraction/lib/python3.10/site-packages/torch/nn/parallel/_functions.py:70: UserWarning: Was asked to gather along dimension 0, but all input tensors were scalars; will instead unsqueeze and return a vector.\n",
      "  warnings.warn(\n",
      "/opt/anaconda/envs/keble8263-sdoh-extraction/lib/python3.10/site-packages/torch/nn/parallel/data_parallel.py:37: UserWarning: \n",
      "    There is an imbalance between your GPUs. You may want to exclude GPU 0 which\n",
      "    has less than 75% of the memory or cores of GPU 2. You can do so by setting\n",
      "    the device_ids argument to DataParallel, or by setting the CUDA_VISIBLE_DEVICES\n",
      "    environment variable.\n",
      "  warnings.warn(\n",
      "/opt/anaconda/envs/keble8263-sdoh-extraction/lib/python3.10/site-packages/torch/nn/parallel/_functions.py:70: UserWarning: Was asked to gather along dimension 0, but all input tensors were scalars; will instead unsqueeze and return a vector.\n",
      "  warnings.warn(\n",
      "/opt/anaconda/envs/keble8263-sdoh-extraction/lib/python3.10/site-packages/torch/nn/parallel/data_parallel.py:37: UserWarning: \n",
      "    There is an imbalance between your GPUs. You may want to exclude GPU 0 which\n",
      "    has less than 75% of the memory or cores of GPU 2. You can do so by setting\n",
      "    the device_ids argument to DataParallel, or by setting the CUDA_VISIBLE_DEVICES\n",
      "    environment variable.\n",
      "  warnings.warn(\n",
      "/opt/anaconda/envs/keble8263-sdoh-extraction/lib/python3.10/site-packages/torch/nn/parallel/_functions.py:70: UserWarning: Was asked to gather along dimension 0, but all input tensors were scalars; will instead unsqueeze and return a vector.\n",
      "  warnings.warn(\n",
      "/opt/anaconda/envs/keble8263-sdoh-extraction/lib/python3.10/site-packages/torch/nn/parallel/data_parallel.py:37: UserWarning: \n",
      "    There is an imbalance between your GPUs. You may want to exclude GPU 0 which\n",
      "    has less than 75% of the memory or cores of GPU 2. You can do so by setting\n",
      "    the device_ids argument to DataParallel, or by setting the CUDA_VISIBLE_DEVICES\n",
      "    environment variable.\n",
      "  warnings.warn(\n",
      "/opt/anaconda/envs/keble8263-sdoh-extraction/lib/python3.10/site-packages/torch/nn/parallel/_functions.py:70: UserWarning: Was asked to gather along dimension 0, but all input tensors were scalars; will instead unsqueeze and return a vector.\n",
      "  warnings.warn(\n",
      "/opt/anaconda/envs/keble8263-sdoh-extraction/lib/python3.10/site-packages/torch/nn/parallel/data_parallel.py:37: UserWarning: \n",
      "    There is an imbalance between your GPUs. You may want to exclude GPU 0 which\n",
      "    has less than 75% of the memory or cores of GPU 2. You can do so by setting\n",
      "    the device_ids argument to DataParallel, or by setting the CUDA_VISIBLE_DEVICES\n",
      "    environment variable.\n",
      "  warnings.warn(\n",
      "/opt/anaconda/envs/keble8263-sdoh-extraction/lib/python3.10/site-packages/torch/nn/parallel/_functions.py:70: UserWarning: Was asked to gather along dimension 0, but all input tensors were scalars; will instead unsqueeze and return a vector.\n",
      "  warnings.warn(\n",
      "/opt/anaconda/envs/keble8263-sdoh-extraction/lib/python3.10/site-packages/torch/nn/parallel/data_parallel.py:37: UserWarning: \n",
      "    There is an imbalance between your GPUs. You may want to exclude GPU 0 which\n",
      "    has less than 75% of the memory or cores of GPU 2. You can do so by setting\n",
      "    the device_ids argument to DataParallel, or by setting the CUDA_VISIBLE_DEVICES\n",
      "    environment variable.\n",
      "  warnings.warn(\n",
      "/opt/anaconda/envs/keble8263-sdoh-extraction/lib/python3.10/site-packages/torch/nn/parallel/_functions.py:70: UserWarning: Was asked to gather along dimension 0, but all input tensors were scalars; will instead unsqueeze and return a vector.\n",
      "  warnings.warn(\n",
      "/opt/anaconda/envs/keble8263-sdoh-extraction/lib/python3.10/site-packages/torch/nn/parallel/data_parallel.py:37: UserWarning: \n",
      "    There is an imbalance between your GPUs. You may want to exclude GPU 0 which\n",
      "    has less than 75% of the memory or cores of GPU 2. You can do so by setting\n",
      "    the device_ids argument to DataParallel, or by setting the CUDA_VISIBLE_DEVICES\n",
      "    environment variable.\n",
      "  warnings.warn(\n",
      "/opt/anaconda/envs/keble8263-sdoh-extraction/lib/python3.10/site-packages/torch/nn/parallel/_functions.py:70: UserWarning: Was asked to gather along dimension 0, but all input tensors were scalars; will instead unsqueeze and return a vector.\n",
      "  warnings.warn(\n",
      "/opt/anaconda/envs/keble8263-sdoh-extraction/lib/python3.10/site-packages/torch/nn/parallel/data_parallel.py:37: UserWarning: \n",
      "    There is an imbalance between your GPUs. You may want to exclude GPU 0 which\n",
      "    has less than 75% of the memory or cores of GPU 2. You can do so by setting\n",
      "    the device_ids argument to DataParallel, or by setting the CUDA_VISIBLE_DEVICES\n",
      "    environment variable.\n",
      "  warnings.warn(\n",
      "/opt/anaconda/envs/keble8263-sdoh-extraction/lib/python3.10/site-packages/torch/nn/parallel/_functions.py:70: UserWarning: Was asked to gather along dimension 0, but all input tensors were scalars; will instead unsqueeze and return a vector.\n",
      "  warnings.warn(\n",
      "/opt/anaconda/envs/keble8263-sdoh-extraction/lib/python3.10/site-packages/torch/nn/parallel/data_parallel.py:37: UserWarning: \n",
      "    There is an imbalance between your GPUs. You may want to exclude GPU 0 which\n",
      "    has less than 75% of the memory or cores of GPU 2. You can do so by setting\n",
      "    the device_ids argument to DataParallel, or by setting the CUDA_VISIBLE_DEVICES\n",
      "    environment variable.\n",
      "  warnings.warn(\n",
      "/opt/anaconda/envs/keble8263-sdoh-extraction/lib/python3.10/site-packages/torch/nn/parallel/_functions.py:70: UserWarning: Was asked to gather along dimension 0, but all input tensors were scalars; will instead unsqueeze and return a vector.\n",
      "  warnings.warn(\n",
      "/opt/anaconda/envs/keble8263-sdoh-extraction/lib/python3.10/site-packages/torch/nn/parallel/data_parallel.py:37: UserWarning: \n",
      "    There is an imbalance between your GPUs. You may want to exclude GPU 0 which\n",
      "    has less than 75% of the memory or cores of GPU 2. You can do so by setting\n",
      "    the device_ids argument to DataParallel, or by setting the CUDA_VISIBLE_DEVICES\n",
      "    environment variable.\n",
      "  warnings.warn(\n"
     ]
    },
    {
     "data": {
      "text/plain": [
       "TrainOutput(global_step=90, training_loss=0.2176656511094835, metrics={'train_runtime': 40.2224, 'train_samples_per_second': 140.221, 'train_steps_per_second': 2.238, 'total_flos': 370983257118720.0, 'train_loss': 0.2176656511094835, 'epoch': 10.0})"
      ]
     },
     "execution_count": 31,
     "metadata": {},
     "output_type": "execute_result"
    }
   ],
   "source": [
    "trainer.train()"
   ]
  },
  {
   "cell_type": "markdown",
   "id": "8cfc59b8",
   "metadata": {},
   "source": [
    "## 5. Evaluate"
   ]
  },
  {
   "cell_type": "code",
   "execution_count": 32,
   "id": "c6390d3b",
   "metadata": {},
   "outputs": [
    {
     "name": "stderr",
     "output_type": "stream",
     "text": [
      "/opt/anaconda/envs/keble8263-sdoh-extraction/lib/python3.10/site-packages/torch/nn/parallel/data_parallel.py:37: UserWarning: \n",
      "    There is an imbalance between your GPUs. You may want to exclude GPU 0 which\n",
      "    has less than 75% of the memory or cores of GPU 2. You can do so by setting\n",
      "    the device_ids argument to DataParallel, or by setting the CUDA_VISIBLE_DEVICES\n",
      "    environment variable.\n",
      "  warnings.warn(\n",
      "/opt/anaconda/envs/keble8263-sdoh-extraction/lib/python3.10/site-packages/torch/nn/parallel/_functions.py:70: UserWarning: Was asked to gather along dimension 0, but all input tensors were scalars; will instead unsqueeze and return a vector.\n",
      "  warnings.warn(\n"
     ]
    },
    {
     "data": {
      "text/html": [],
      "text/plain": [
       "<IPython.core.display.HTML object>"
      ]
     },
     "metadata": {},
     "output_type": "display_data"
    },
    {
     "name": "stdout",
     "output_type": "stream",
     "text": [
      "\n",
      "📊 Classification Report:\n",
      "              precision    recall  f1-score   support\n",
      "\n",
      "      NoSDoH       0.92      0.85      0.88       144\n",
      "    Any SDoH       0.80      0.89      0.84        99\n",
      "\n",
      "    accuracy                           0.86       243\n",
      "   macro avg       0.86      0.87      0.86       243\n",
      "weighted avg       0.87      0.86      0.87       243\n",
      "\n"
     ]
    }
   ],
   "source": [
    "outputs = trainer.predict(test_dataset)\n",
    "probs = torch.sigmoid(torch.tensor(outputs.predictions)).numpy().flatten()\n",
    "y_pred = (probs > 0.5).astype(int)\n",
    "y_true = test_df['binary_label'].values\n",
    "\n",
    "print(\"\\n📊 Classification Report:\")\n",
    "print(classification_report(y_true, y_pred, target_names=[\"NoSDoH\", \"Any SDoH\"]))"
   ]
  },
  {
   "cell_type": "code",
   "execution_count": 33,
   "id": "476a9438",
   "metadata": {},
   "outputs": [
    {
     "name": "stdout",
     "output_type": "stream",
     "text": [
      "\n",
      "✅ Predictions saved to ../results/model_training/binary_sdoh_roberta/binary_predictions.csv\n"
     ]
    }
   ],
   "source": [
    "results_df = pd.DataFrame({\n",
    "    \"Sentence\": test_df[\"Sentence\"],\n",
    "    \"True Label\": [\"NoSDoH\" if y == 0 else \"Any SDoH\" for y in y_true],\n",
    "    \"Predicted Label\": [\"NoSDoH\" if y == 0 else \"Any SDoH\" for y in y_pred],\n",
    "    \"Prob_SDoH\": probs\n",
    "})\n",
    "results_df.to_csv(os.path.join(model_output_dir, \"binary_predictions.csv\"), index=False)\n",
    "print(f\"\\n✅ Predictions saved to {model_output_dir}/binary_predictions.csv\")"
   ]
  }
 ],
 "metadata": {
  "kernelspec": {
   "display_name": "keble8263-sdoh-extraction",
   "language": "python",
   "name": "python3"
  },
  "language_info": {
   "codemirror_mode": {
    "name": "ipython",
    "version": 3
   },
   "file_extension": ".py",
   "mimetype": "text/x-python",
   "name": "python",
   "nbconvert_exporter": "python",
   "pygments_lexer": "ipython3",
   "version": "3.10.17"
  }
 },
 "nbformat": 4,
 "nbformat_minor": 5
}
