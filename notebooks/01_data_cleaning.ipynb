{
 "cells": [
  {
   "cell_type": "markdown",
   "id": "3e413d4d",
   "metadata": {},
   "source": [
    "# Data cleaning"
   ]
  },
  {
   "cell_type": "markdown",
   "id": "d5e6cf3e",
   "metadata": {},
   "source": [
    "## Setup"
   ]
  },
  {
   "cell_type": "code",
   "execution_count": 2,
   "id": "97c7d8bf",
   "metadata": {},
   "outputs": [
    {
     "name": "stdout",
     "output_type": "stream",
     "text": [
      "The autoreload extension is already loaded. To reload it, use:\n",
      "  %reload_ext autoreload\n"
     ]
    }
   ],
   "source": [
    "%load_ext autoreload\n",
    "%autoreload 2"
   ]
  },
  {
   "cell_type": "code",
   "execution_count": 3,
   "id": "c38c32e3",
   "metadata": {},
   "outputs": [],
   "source": [
    "import os\n",
    "import pandas as pd\n",
    "from pathlib import Path\n",
    "import sys\n",
    "\n",
    "# Add the project root to the Python path to import the modules\n",
    "project_root = Path().absolute().parent\n",
    "sys.path.append(str(project_root))"
   ]
  },
  {
   "cell_type": "markdown",
   "id": "67a880eb",
   "metadata": {},
   "source": [
    "## Cleaning"
   ]
  },
  {
   "cell_type": "code",
   "execution_count": 8,
   "id": "b3cd11f2",
   "metadata": {},
   "outputs": [],
   "source": [
    "from utils.data_cleaning import clean_na_variations, remove_duplicate_sentences_per_case\n",
    "\n",
    "brc_referrals_raw = pd.read_csv(\"../data/raw/BRC-Data/Cases_depersonalised.csv\")"
   ]
  },
  {
   "cell_type": "code",
   "execution_count": 11,
   "id": "149581f8",
   "metadata": {},
   "outputs": [
    {
     "name": "stdout",
     "output_type": "stream",
     "text": [
      "Original data shape: (181085, 19)\n",
      "Columns: ['Area', 'Scheme', 'Case Reference', 'Assessment Result', 'Case Status', 'Referral Date/Time', 'End Date Case', 'Has Disability', 'Has Risk', 'Risk Type', 'Unique Case', 'IMD_decile', 'Country', 'Age', 'Gender', 'Ethnicity', 'Disability', 'Living Arrangements', 'Referral Notes (depersonalised)']\n",
      "\n",
      "Original referral notes missing values: 30621\n",
      "After removing missing referral notes: (150464, 19)\n",
      "After removing NA variations: (150464, 19) (removed 0 rows) \n",
      "\n",
      "Removing duplicate sentences within cases...\n",
      "Original sentences: 340393\n",
      "Unique sentences: 182168\n",
      "Sentences removed: 158225\n",
      "\n",
      "Final cleaned data shape: (99560, 19)\n",
      "Number of unique referral notes: 51658\n",
      "\n",
      "Cleaned data saved to: ../data/processed/BRC_referrals_cleaned.csv\n"
     ]
    }
   ],
   "source": [
    "print(\"Original data shape:\", brc_referrals_raw.shape)\n",
    "print(\"Columns:\", brc_referrals_raw.columns.tolist())\n",
    "\n",
    "# 1. Remove missing values for referral notes\n",
    "print(f\"\\nOriginal referral notes missing values: {brc_referrals_raw['Referral Notes (depersonalised)'].isnull().sum()}\")\n",
    "\n",
    "brc_cleaned = brc_referrals_raw.dropna(subset=['Referral Notes (depersonalised)']).copy()\n",
    "print(f\"After removing missing referral notes: {brc_cleaned.shape}\")\n",
    "\n",
    "# 2. Apply NA cleaning to referral notes\n",
    "brc_cleaned['Referral Notes (depersonalised)'] = brc_cleaned['Referral Notes (depersonalised)'].apply(clean_na_variations)\n",
    "    \n",
    "# Remove rows where referral notes became NaN after cleaning\n",
    "before_na_clean = brc_cleaned.shape[0]\n",
    "brc_cleaned = brc_cleaned.dropna(subset=['Referral Notes (depersonalised)'])\n",
    "print(f\"After removing NA variations: {brc_cleaned.shape} (removed {before_na_clean - brc_cleaned.shape[0]} rows) \\n\")\n",
    "\n",
    "# 3. Remove duplicate sentences within multiple notes corresponding to a single Case Reference\n",
    "# As done in Keloth et al. (2025)\n",
    "brc_final = remove_duplicate_sentences_per_case(brc_cleaned)\n",
    "print(f\"\\nFinal cleaned data shape: {brc_final.shape}\")\n",
    "print(f\"Number of unique referral notes: {brc_final['Referral Notes (depersonalised)'].nunique()}\")\n",
    "\n",
    "# Save the cleaned data\n",
    "output_path = Path(\"../data/processed/BRC_referrals_cleaned.csv\")\n",
    "brc_final.to_csv(output_path, index=False)\n",
    "print(f\"\\nCleaned data saved to: {output_path}\")\n"
   ]
  },
  {
   "cell_type": "markdown",
   "id": "e933fcb7",
   "metadata": {},
   "source": []
  }
 ],
 "metadata": {
  "kernelspec": {
   "display_name": "keble8263-sdoh-extraction",
   "language": "python",
   "name": "python3"
  },
  "language_info": {
   "codemirror_mode": {
    "name": "ipython",
    "version": 3
   },
   "file_extension": ".py",
   "mimetype": "text/x-python",
   "name": "python",
   "nbconvert_exporter": "python",
   "pygments_lexer": "ipython3",
   "version": "3.10.17"
  }
 },
 "nbformat": 4,
 "nbformat_minor": 5
}
