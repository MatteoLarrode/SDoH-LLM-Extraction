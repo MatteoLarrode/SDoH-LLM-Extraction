{
 "cells": [
  {
   "cell_type": "markdown",
   "id": "7d71a71a",
   "metadata": {},
   "source": [
    "# SDoH Extraction using LLMs"
   ]
  },
  {
   "cell_type": "markdown",
   "id": "4f133f46",
   "metadata": {},
   "source": [
    "## Setup"
   ]
  },
  {
   "cell_type": "code",
   "execution_count": 2,
   "id": "51994ec7",
   "metadata": {},
   "outputs": [],
   "source": [
    "%load_ext autoreload\n",
    "%autoreload 2"
   ]
  },
  {
   "cell_type": "code",
   "execution_count": 6,
   "id": "0bb2a97e",
   "metadata": {},
   "outputs": [],
   "source": [
    "import pandas as pd\n",
    "import os\n",
    "from pathlib import Path\n",
    "import sys\n",
    "from IPython.display import display, HTML\n",
    "\n",
    "# Add the project root to the Python path to import the modules\n",
    "project_root = Path().absolute().parent\n",
    "sys.path.append(str(project_root))"
   ]
  },
  {
   "cell_type": "markdown",
   "id": "ebbfe003",
   "metadata": {},
   "source": [
    "## Load models"
   ]
  },
  {
   "cell_type": "code",
   "execution_count": 4,
   "id": "0b3ed5d7",
   "metadata": {},
   "outputs": [
    {
     "name": "stderr",
     "output_type": "stream",
     "text": [
      "/opt/anaconda/envs/keble8263-sdoh-extraction/lib/python3.10/site-packages/transformers/utils/hub.py:111: FutureWarning: Using `TRANSFORMERS_CACHE` is deprecated and will be removed in v5 of Transformers. Use `HF_HOME` instead.\n",
      "  warnings.warn(\n"
     ]
    },
    {
     "name": "stdout",
     "output_type": "stream",
     "text": [
      "Available cached models:\n",
      "  CohereForAI/aya-23-35B\n",
      "  CohereForAI/aya-23-8B\n",
      "  CohereForAI/aya-vision-8b\n",
      "  HuggingFaceTB/SmolLM-135M-Instruct\n",
      "  LLaMAX/LLaMAX3-8B-Alpaca\n",
      "  Qwen/Qwen2.5-1.5B\n",
      "  Qwen/Qwen2.5-3B\n",
      "  Qwen/Qwen2.5-72B-Instruct\n",
      "  Qwen/Qwen2.5-7B\n",
      "  Qwen/Qwen2.5-7B-Instruct\n",
      "  Qwen/Qwen2.5-7B-instruct\n",
      "  Qwen/Qwen2.5-VL-7B-Instruct\n",
      "  Qwen/Qwen3-0.6B\n",
      "  Qwen/Qwen3-8B\n",
      "  Unbabel/wmt20-comet-qe-da\n",
      "  Unbabel/wmt22-comet-da\n",
      "  bert-base-uncased\n",
      "  bert-large-uncased\n",
      "  cardiffnlp/twitter-roberta-base-sentiment\n",
      "  clairebarale/refugee_cases_ner\n",
      "  deepseek-ai/DeepSeek-R1-Distill-Llama-70B\n",
      "  deepseek-ai/DeepSeek-R1-Distill-Llama-8B\n",
      "  deepseek-ai/DeepSeek-R1-Distill-Qwen-14B\n",
      "  deepseek-ai/DeepSeek-R1-Distill-Qwen-32B\n",
      "  deepseek-ai/DeepSeek-R1-Distill-Qwen-7B\n",
      "  facebook/nllb-200-3.3B\n",
      "  facebook/nllb-200-distilled-1.3B\n",
      "  facebook/nllb-200-distilled-600M\n",
      "  google/gemma-3-1b-it\n",
      "  google/gemma-3-27b-it\n",
      "  google/gemma-3-27b-it-qat-q4_0-gguf\n",
      "  gpt2\n",
      "  gpt2-medium\n",
      "  gpt2-xl\n",
      "  hfl/chinese-electra-180g-small-discriminator\n",
      "  hfl/chinese-legal-electra-base-discriminator\n",
      "  hfl/chinese-legal-electra-small-discriminator\n",
      "  hfl/chinese-roberta-wwm-ext\n",
      "  hfl/chinese-roberta-wwm-ext-large\n",
      "  jxm/gtr__nq__32\n",
      "  jxm/gtr__nq__32__correct\n",
      "  meta-llama/Llama-2-7b-chat-hf\n",
      "  meta-llama/Llama-2-7b-hf\n",
      "  meta-llama/Llama-3.1-70B-Instruct\n",
      "  meta-llama/Llama-3.1-8B\n",
      "  meta-llama/Llama-3.1-8B-Instruct\n",
      "  meta-llama/Llama-3.2-11B-Vision-Instruct\n",
      "  meta-llama/Llama-3.3-70B-Instruct\n",
      "  meta-llama/Llama-4-Scout-17B-16E\n",
      "  meta-llama/Meta-Llama-3-70B-Instruct\n",
      "  meta-llama/Meta-Llama-3-8B\n",
      "  meta-llama/Meta-Llama-3-8B-Instruct\n",
      "  meta-llama/Meta-Llama-3.1-8B-Instruct\n",
      "  microsoft/Phi-3-mini-4k-instruct\n",
      "  microsoft/Phi-3.5-vision-instruct\n",
      "  microsoft/Phi-4-mini-instruct\n",
      "  microsoft/Phi-4-multimodal-instruct\n",
      "  microsoft/deberta-v3-base\n",
      "  microsoft/deberta-xlarge\n",
      "  microsoft/deberta-xlarge-mnli\n",
      "  mistral-community/pixtral-12b\n",
      "  mistralai/Mistral-7B-Instruct-v0.2\n",
      "  mistralai/Mistral-7B-Instruct-v0.3\n",
      "  mistralai/Mistral-7B-v0.1\n",
      "  mistralai/Mixtral-8x7B-Instruct-v0.1\n",
      "  mosaicml/mpt-7b-chat\n",
      "  nlpaueb/legal-bert-base-uncased\n",
      "  nvidia/Llama-3.1-Nemotron-Nano-8B-v1\n",
      "  openai-community/gpt2\n",
      "  openai/whisper-large-v3-turbo\n",
      "  openbmb/MiniCPM-o-2_6\n",
      "  roberta-base\n",
      "  saibo/legal-roberta-base\n",
      "  sentence-transformers/LaBSE\n",
      "  sentence-transformers/all-MiniLM-L6-v2\n",
      "  sentence-transformers/all-mpnet-base-v2\n",
      "  sentence-transformers/gtr-t5-base\n",
      "  sentence-transformers/paraphrase-distilroberta-base-v2\n",
      "  sentence-transformers/paraphrase-multilingual-mpnet-base-v2\n",
      "  t5-base\n",
      "  t5-large\n",
      "  t5-small\n",
      "  xlm-roberta-base\n",
      "  xlm-roberta-large\n"
     ]
    }
   ],
   "source": [
    "import torch\n",
    "import transformers\n",
    "\n",
    "# Use shared cache\n",
    "os.environ['HF_HOME'] = '/data/resource/huggingface'\n",
    "os.environ['TRANSFORMERS_OFFLINE'] = '1'  # Force offline mode\n",
    "\n",
    "# What models are available\n",
    "cache_dir = \"/data/resource/huggingface/hub\"\n",
    "available_models = []\n",
    "\n",
    "if os.path.exists(cache_dir):\n",
    "    for item in os.listdir(cache_dir):\n",
    "        if item.startswith(\"models--\"):\n",
    "            # Convert models--org--name to org/name format\n",
    "            model_name = item.replace(\"models--\", \"\").replace(\"--\", \"/\")\n",
    "            available_models.append(model_name)\n",
    "\n",
    "print(\"Available cached models:\")\n",
    "for model in sorted(available_models):\n",
    "    print(f\"  {model}\")"
   ]
  },
  {
   "cell_type": "code",
   "execution_count": 5,
   "id": "2c75c022",
   "metadata": {},
   "outputs": [
    {
     "name": "stdout",
     "output_type": "stream",
     "text": [
      "Transformers version: 4.52.3\n",
      "PyTorch version: 2.6.0\n",
      "CUDA available: True\n"
     ]
    }
   ],
   "source": [
    "print(f\"Transformers version: {transformers.__version__}\")\n",
    "print(f\"PyTorch version: {torch.__version__}\")\n",
    "print(f\"CUDA available: {torch.cuda.is_available()}\")"
   ]
  },
  {
   "cell_type": "markdown",
   "id": "e423c8c5",
   "metadata": {},
   "source": [
    "## Prototype few-shot extraction of SDoH from one note"
   ]
  },
  {
   "cell_type": "code",
   "execution_count": null,
   "id": "89f573d9",
   "metadata": {},
   "outputs": [
    {
     "name": "stdout",
     "output_type": "stream",
     "text": [
      "Sample Note:\n",
      "Befriending. Lives with husband for whom patient is carer. Living on ready meals at present. PERSON concerned that they may not be eating / drinking enough. Carers in XXXX times daily for patient to help with washing / dressing. Depending on side - effects of radiotherapy , patient may go on to PEG feeding. Patient feeling slightly overwhelmed by everything. FPOC and Carers Support Shropshire numbers given to patient ’s daughter ( with patient consent ) but would value additional emotional support / befriending / check ins to make sure they are eating / drinking etc as all activities of daily living severely compromised at present. Very supportive daughter who lives in PERSON. The patient is due to start radiotherapy on XXXX January so support during this time would be particularly beneficial. Due to start radiotherapy on XXXX at SATH EOS XXXX.\n"
     ]
    }
   ],
   "source": [
    "# Load cleaned data\n",
    "brc_referrals_cleaned = pd.read_csv(\"../data/processed/BRC_referrals_cleaned.csv\")\n",
    "\n",
    "# Load a specific note: Case Reference = CAS-467812\n",
    "sample_note = brc_referrals_cleaned[brc_referrals_cleaned['Case Reference'] == 'CAS-467812'].iloc[0]['Referral Notes (depersonalised)']\n",
    "\n",
    "print(\"Sample Note:\")\n",
    "print(sample_note)"
   ]
  },
  {
   "cell_type": "markdown",
   "id": "f58a976f",
   "metadata": {},
   "source": [
    "### Defining the classification task"
   ]
  },
  {
   "cell_type": "markdown",
   "id": "5de3309a",
   "metadata": {},
   "source": [
    "I define a similar classification task as Guevara et al. (2024). I also added 4 of the 21 SDoH used in Keloth et al. (2025)\n",
    "\n",
    "**Task**: Multi-label sentence-level classification\n",
    "\n",
    "**SDoH**: 10 SDoH categories\n",
    "\n",
    "Guevara et al. (2024) & Keloth et al. (2025):\n",
    "- Employment status \n",
    "- Housing issues \n",
    "- Transportation issues \n",
    "- Parental status\n",
    "- Relationship status\n",
    "- Social support\n",
    "- Substance use\n",
    "\n",
    "Keloth et al. (2025)\n",
    "- Financial issues\n",
    "- Education level \n",
    "- Food insecurity\n",
    "\n",
    "I define two levels of classification, similarly to the papers cited above:\n",
    "\n",
    "1. Level 1: *Any SDoH mentions*. The presence of language describing an SDoH category as defined above, regardless of the attribute. \n",
    "2. Level 2: *Adverse SDoH mentions*. The presence or absence of language describing an SDoH category with an attribute that could create an additional social work or resource support need for patients:\n",
    "    - Employment status: unemployed, underemployed, disability\n",
    "    - Housing issue: financial status, undomiciled, other\n",
    "    - Transportation issue: distance, resources, other\n",
    "    - Parental status: having a child under 18 years old\n",
    "    - Relationship: widowed, divorced, single\n",
    "    - Social support: absence of social support\n",
    "    - Substance use: alcohol abuse, drug use, smoking\n",
    "    - Financial issues: poverty, debt, inability to pay bills, benefit dependency\n",
    "    - Education level: low education, illiteracy, lack of qualifications\n",
    "    - Food insecurity: hunger, inability to afford food, reliance on food banks, poor nutrition"
   ]
  },
  {
   "cell_type": "code",
   "execution_count": 9,
   "id": "08e00b3f",
   "metadata": {},
   "outputs": [],
   "source": [
    "import torch\n",
    "from transformers import AutoTokenizer, AutoModel\n",
    "import json\n",
    "import re\n",
    "from typing import List, Dict\n",
    "\n",
    "from utils.model_helpers import load_instruction_model\n",
    "from utils.SDoH_classification_helpers import SDoHExtractor\n",
    "\n",
    "# Load one of the instruction-tuned models\n",
    "# Qwen/Qwen2.5-7B-Instruct - Excellent for zero-shot classification\n",
    "# meta-llama/Llama-3.1-8B-Instruct - Very capable instruction-following model\n",
    "# microsoft/Phi-4-mini-instruct - Smaller but efficient\n",
    "# mistralai/Mistral-7B-Instruct-v0.3 - Great performance on classification tasks"
   ]
  },
  {
   "cell_type": "code",
   "execution_count": 10,
   "id": "d3c2769a",
   "metadata": {},
   "outputs": [
    {
     "name": "stdout",
     "output_type": "stream",
     "text": [
      "Trying to load meta-llama/Llama-3.1-8B-Instruct...\n",
      "Loading meta-llama/Llama-3.1-8B-Instruct...\n"
     ]
    },
    {
     "data": {
      "application/vnd.jupyter.widget-view+json": {
       "model_id": "f56a62d7ca024bbeb4a8686effb21128",
       "version_major": 2,
       "version_minor": 0
      },
      "text/plain": [
       "Loading checkpoint shards:   0%|          | 0/4 [00:00<?, ?it/s]"
      ]
     },
     "metadata": {},
     "output_type": "display_data"
    },
    {
     "name": "stdout",
     "output_type": "stream",
     "text": [
      "✓ meta-llama/Llama-3.1-8B-Instruct loaded successfully!\n"
     ]
    }
   ],
   "source": [
    "model_name = \"meta-llama/Llama-3.1-8B-Instruct\"\n",
    "tokenizer, model = None, None\n",
    "\n",
    "print(f\"Trying to load {model_name}...\")\n",
    "tokenizer, model = load_instruction_model(model_name)"
   ]
  },
  {
   "cell_type": "code",
   "execution_count": 11,
   "id": "63f19121",
   "metadata": {},
   "outputs": [
    {
     "name": "stdout",
     "output_type": "stream",
     "text": [
      "\n",
      "Extracted SDoH Factors (Level 1):\n"
     ]
    },
    {
     "data": {
      "application/vnd.microsoft.datawrangler.viewer.v0+json": {
       "columns": [
        {
         "name": "index",
         "rawType": "int64",
         "type": "integer"
        },
        {
         "name": "note_id",
         "rawType": "object",
         "type": "string"
        },
        {
         "name": "sentence_number",
         "rawType": "int64",
         "type": "integer"
        },
        {
         "name": "sentence",
         "rawType": "object",
         "type": "string"
        },
        {
         "name": "has_sdoh",
         "rawType": "bool",
         "type": "boolean"
        },
        {
         "name": "sdoh_factors",
         "rawType": "object",
         "type": "string"
        },
        {
         "name": "num_sdoh_factors",
         "rawType": "int64",
         "type": "integer"
        }
       ],
       "ref": "52d1169a-8ab8-4892-a7ca-a588b38f838b",
       "rows": [
        [
         "0",
         "sample",
         "1",
         "Lives with husband for whom patient is carer",
         "True",
         "RelationshipStatus, Housing",
         "2"
        ],
        [
         "1",
         "sample",
         "2",
         "Living on ready meals at present",
         "True",
         "FoodInsecurity",
         "1"
        ],
        [
         "2",
         "sample",
         "3",
         "[PERSON] concerned that they may not be eating / drinking enough",
         "True",
         "FoodInsecurity",
         "1"
        ],
        [
         "3",
         "sample",
         "4",
         "Carers in [REDACTED] times daily for patient to help with washing / dressing",
         "True",
         "SocialSupport",
         "1"
        ],
        [
         "4",
         "sample",
         "5",
         "Depending on side - effects of radiotherapy , patient may go on to PEG feeding",
         "True",
         "Housing, FoodInsecurity",
         "2"
        ],
        [
         "5",
         "sample",
         "6",
         "Patient feeling slightly overwhelmed by everything",
         "True",
         "SocialSupport",
         "1"
        ],
        [
         "6",
         "sample",
         "7",
         "FPOC and Carers Support Shropshire numbers given to patient ’s daughter ( with patient consent ) but would value additional emotional support / befriending / check ins to make sure they are eating / drinking etc as all activities of daily living severely compromised at present",
         "True",
         "SocialSupport, FoodInsecurity",
         "2"
        ],
        [
         "7",
         "sample",
         "8",
         "Very supportive daughter who lives in [PERSON]",
         "True",
         "SocialSupport, Housing",
         "2"
        ],
        [
         "8",
         "sample",
         "9",
         "The patient is due to start radiotherapy on [REDACTED] January so support during this time would be particularly beneficial",
         "True",
         "SocialSupport",
         "1"
        ],
        [
         "9",
         "sample",
         "10",
         "Due to start radiotherapy on [REDACTED] at SATH EOS [REDACTED]",
         "False",
         "NoSDoH",
         "0"
        ]
       ],
       "shape": {
        "columns": 6,
        "rows": 10
       }
      },
      "text/html": [
       "<div>\n",
       "<style scoped>\n",
       "    .dataframe tbody tr th:only-of-type {\n",
       "        vertical-align: middle;\n",
       "    }\n",
       "\n",
       "    .dataframe tbody tr th {\n",
       "        vertical-align: top;\n",
       "    }\n",
       "\n",
       "    .dataframe thead th {\n",
       "        text-align: right;\n",
       "    }\n",
       "</style>\n",
       "<table border=\"1\" class=\"dataframe\">\n",
       "  <thead>\n",
       "    <tr style=\"text-align: right;\">\n",
       "      <th></th>\n",
       "      <th>note_id</th>\n",
       "      <th>sentence_number</th>\n",
       "      <th>sentence</th>\n",
       "      <th>has_sdoh</th>\n",
       "      <th>sdoh_factors</th>\n",
       "      <th>num_sdoh_factors</th>\n",
       "    </tr>\n",
       "  </thead>\n",
       "  <tbody>\n",
       "    <tr>\n",
       "      <th>0</th>\n",
       "      <td>sample</td>\n",
       "      <td>1</td>\n",
       "      <td>Lives with husband for whom patient is carer</td>\n",
       "      <td>True</td>\n",
       "      <td>RelationshipStatus, Housing</td>\n",
       "      <td>2</td>\n",
       "    </tr>\n",
       "    <tr>\n",
       "      <th>1</th>\n",
       "      <td>sample</td>\n",
       "      <td>2</td>\n",
       "      <td>Living on ready meals at present</td>\n",
       "      <td>True</td>\n",
       "      <td>FoodInsecurity</td>\n",
       "      <td>1</td>\n",
       "    </tr>\n",
       "    <tr>\n",
       "      <th>2</th>\n",
       "      <td>sample</td>\n",
       "      <td>3</td>\n",
       "      <td>[PERSON] concerned that they may not be eating...</td>\n",
       "      <td>True</td>\n",
       "      <td>FoodInsecurity</td>\n",
       "      <td>1</td>\n",
       "    </tr>\n",
       "    <tr>\n",
       "      <th>3</th>\n",
       "      <td>sample</td>\n",
       "      <td>4</td>\n",
       "      <td>Carers in [REDACTED] times daily for patient t...</td>\n",
       "      <td>True</td>\n",
       "      <td>SocialSupport</td>\n",
       "      <td>1</td>\n",
       "    </tr>\n",
       "    <tr>\n",
       "      <th>4</th>\n",
       "      <td>sample</td>\n",
       "      <td>5</td>\n",
       "      <td>Depending on side - effects of radiotherapy , ...</td>\n",
       "      <td>True</td>\n",
       "      <td>Housing, FoodInsecurity</td>\n",
       "      <td>2</td>\n",
       "    </tr>\n",
       "    <tr>\n",
       "      <th>5</th>\n",
       "      <td>sample</td>\n",
       "      <td>6</td>\n",
       "      <td>Patient feeling slightly overwhelmed by everyt...</td>\n",
       "      <td>True</td>\n",
       "      <td>SocialSupport</td>\n",
       "      <td>1</td>\n",
       "    </tr>\n",
       "    <tr>\n",
       "      <th>6</th>\n",
       "      <td>sample</td>\n",
       "      <td>7</td>\n",
       "      <td>FPOC and Carers Support Shropshire numbers giv...</td>\n",
       "      <td>True</td>\n",
       "      <td>SocialSupport, FoodInsecurity</td>\n",
       "      <td>2</td>\n",
       "    </tr>\n",
       "    <tr>\n",
       "      <th>7</th>\n",
       "      <td>sample</td>\n",
       "      <td>8</td>\n",
       "      <td>Very supportive daughter who lives in [PERSON]</td>\n",
       "      <td>True</td>\n",
       "      <td>SocialSupport, Housing</td>\n",
       "      <td>2</td>\n",
       "    </tr>\n",
       "    <tr>\n",
       "      <th>8</th>\n",
       "      <td>sample</td>\n",
       "      <td>9</td>\n",
       "      <td>The patient is due to start radiotherapy on [R...</td>\n",
       "      <td>True</td>\n",
       "      <td>SocialSupport</td>\n",
       "      <td>1</td>\n",
       "    </tr>\n",
       "    <tr>\n",
       "      <th>9</th>\n",
       "      <td>sample</td>\n",
       "      <td>10</td>\n",
       "      <td>Due to start radiotherapy on [REDACTED] at SAT...</td>\n",
       "      <td>False</td>\n",
       "      <td>NoSDoH</td>\n",
       "      <td>0</td>\n",
       "    </tr>\n",
       "  </tbody>\n",
       "</table>\n",
       "</div>"
      ],
      "text/plain": [
       "  note_id  sentence_number                                           sentence  \\\n",
       "0  sample                1       Lives with husband for whom patient is carer   \n",
       "1  sample                2                   Living on ready meals at present   \n",
       "2  sample                3  [PERSON] concerned that they may not be eating...   \n",
       "3  sample                4  Carers in [REDACTED] times daily for patient t...   \n",
       "4  sample                5  Depending on side - effects of radiotherapy , ...   \n",
       "5  sample                6  Patient feeling slightly overwhelmed by everyt...   \n",
       "6  sample                7  FPOC and Carers Support Shropshire numbers giv...   \n",
       "7  sample                8     Very supportive daughter who lives in [PERSON]   \n",
       "8  sample                9  The patient is due to start radiotherapy on [R...   \n",
       "9  sample               10  Due to start radiotherapy on [REDACTED] at SAT...   \n",
       "\n",
       "   has_sdoh                   sdoh_factors  num_sdoh_factors  \n",
       "0      True    RelationshipStatus, Housing                 2  \n",
       "1      True                 FoodInsecurity                 1  \n",
       "2      True                 FoodInsecurity                 1  \n",
       "3      True                  SocialSupport                 1  \n",
       "4      True        Housing, FoodInsecurity                 2  \n",
       "5      True                  SocialSupport                 1  \n",
       "6      True  SocialSupport, FoodInsecurity                 2  \n",
       "7      True         SocialSupport, Housing                 2  \n",
       "8      True                  SocialSupport                 1  \n",
       "9     False                         NoSDoH                 0  "
      ]
     },
     "metadata": {},
     "output_type": "display_data"
    }
   ],
   "source": [
    "# Initialize the SDoH extractor\n",
    "extractor_lvl1 = SDoHExtractor(\n",
    "    model=model,\n",
    "    tokenizer=tokenizer,\n",
    "    prompt_type=\"five_shot_basic\",\n",
    "    level=1,\n",
    "    debug=True,\n",
    ")\n",
    "\n",
    "# Extract SDoH factors\n",
    "results_lvl1 = extractor_lvl1.extract_from_note(sample_note)\n",
    "results_lvl1_df = extractor_lvl1.results_to_dataframe(results_lvl1, note_id=\"sample\")\n",
    "\n",
    "print(\"\\nExtracted SDoH Factors (Level 1):\")\n",
    "display(results_lvl1_df)"
   ]
  },
  {
   "cell_type": "code",
   "execution_count": 12,
   "id": "93699669",
   "metadata": {},
   "outputs": [
    {
     "name": "stdout",
     "output_type": "stream",
     "text": [
      "\n",
      "Extracted SDoH Factors (Level 2):\n"
     ]
    },
    {
     "data": {
      "application/vnd.microsoft.datawrangler.viewer.v0+json": {
       "columns": [
        {
         "name": "index",
         "rawType": "int64",
         "type": "integer"
        },
        {
         "name": "note_id",
         "rawType": "object",
         "type": "string"
        },
        {
         "name": "sentence_number",
         "rawType": "int64",
         "type": "integer"
        },
        {
         "name": "sentence",
         "rawType": "object",
         "type": "string"
        },
        {
         "name": "has_sdoh",
         "rawType": "bool",
         "type": "boolean"
        },
        {
         "name": "sdoh_factors",
         "rawType": "object",
         "type": "string"
        },
        {
         "name": "num_sdoh_factors",
         "rawType": "int64",
         "type": "integer"
        }
       ],
       "ref": "517ba6d7-2eb9-4269-99dc-bed42f1257ec",
       "rows": [
        [
         "0",
         "sample",
         "1",
         "Lives with husband for whom patient is carer",
         "True",
         "RelationshipStatus-Protective, Housing-Protective",
         "2"
        ],
        [
         "1",
         "sample",
         "2",
         "Living on ready meals at present",
         "True",
         "FoodInsecurity-Adverse",
         "1"
        ],
        [
         "2",
         "sample",
         "3",
         "[PERSON] concerned that they may not be eating / drinking enough",
         "True",
         "FoodInsecurity-Advers",
         "1"
        ],
        [
         "3",
         "sample",
         "4",
         "Carers in [REDACTED] times daily for patient to help with washing / dressing",
         "True",
         "SocialSupport-Protective",
         "1"
        ],
        [
         "4",
         "sample",
         "5",
         "Depending on side - effects of radiotherapy , patient may go on to PEG feeding",
         "True",
         "Housing-NoSDoH",
         "1"
        ],
        [
         "5",
         "sample",
         "6",
         "Patient feeling slightly overwhelmed by everything",
         "False",
         "NoSDoH",
         "0"
        ],
        [
         "6",
         "sample",
         "7",
         "FPOC and Carers Support Shropshire numbers given to patient ’s daughter ( with patient consent ) but would value additional emotional support / befriending / check ins to make sure they are eating / drinking etc as all activities of daily living severely compromised at present",
         "True",
         "Race/Ethnicity-Adverse, SocialSupport-Protective",
         "2"
        ],
        [
         "7",
         "sample",
         "8",
         "Very supportive daughter who lives in [PERSON]",
         "True",
         "SocialSupport-Protective",
         "1"
        ],
        [
         "8",
         "sample",
         "9",
         "The patient is due to start radiotherapy on [REDACTED] January so support during this time would be particularly beneficial",
         "True",
         "SocialSupport-Protective",
         "1"
        ],
        [
         "9",
         "sample",
         "10",
         "Due to start radiotherapy on [REDACTED] at SATH EOS [REDACTED]",
         "False",
         "NoSDoH",
         "0"
        ]
       ],
       "shape": {
        "columns": 6,
        "rows": 10
       }
      },
      "text/html": [
       "<div>\n",
       "<style scoped>\n",
       "    .dataframe tbody tr th:only-of-type {\n",
       "        vertical-align: middle;\n",
       "    }\n",
       "\n",
       "    .dataframe tbody tr th {\n",
       "        vertical-align: top;\n",
       "    }\n",
       "\n",
       "    .dataframe thead th {\n",
       "        text-align: right;\n",
       "    }\n",
       "</style>\n",
       "<table border=\"1\" class=\"dataframe\">\n",
       "  <thead>\n",
       "    <tr style=\"text-align: right;\">\n",
       "      <th></th>\n",
       "      <th>note_id</th>\n",
       "      <th>sentence_number</th>\n",
       "      <th>sentence</th>\n",
       "      <th>has_sdoh</th>\n",
       "      <th>sdoh_factors</th>\n",
       "      <th>num_sdoh_factors</th>\n",
       "    </tr>\n",
       "  </thead>\n",
       "  <tbody>\n",
       "    <tr>\n",
       "      <th>0</th>\n",
       "      <td>sample</td>\n",
       "      <td>1</td>\n",
       "      <td>Lives with husband for whom patient is carer</td>\n",
       "      <td>True</td>\n",
       "      <td>RelationshipStatus-Protective, Housing-Protective</td>\n",
       "      <td>2</td>\n",
       "    </tr>\n",
       "    <tr>\n",
       "      <th>1</th>\n",
       "      <td>sample</td>\n",
       "      <td>2</td>\n",
       "      <td>Living on ready meals at present</td>\n",
       "      <td>True</td>\n",
       "      <td>FoodInsecurity-Adverse</td>\n",
       "      <td>1</td>\n",
       "    </tr>\n",
       "    <tr>\n",
       "      <th>2</th>\n",
       "      <td>sample</td>\n",
       "      <td>3</td>\n",
       "      <td>[PERSON] concerned that they may not be eating...</td>\n",
       "      <td>True</td>\n",
       "      <td>FoodInsecurity-Advers</td>\n",
       "      <td>1</td>\n",
       "    </tr>\n",
       "    <tr>\n",
       "      <th>3</th>\n",
       "      <td>sample</td>\n",
       "      <td>4</td>\n",
       "      <td>Carers in [REDACTED] times daily for patient t...</td>\n",
       "      <td>True</td>\n",
       "      <td>SocialSupport-Protective</td>\n",
       "      <td>1</td>\n",
       "    </tr>\n",
       "    <tr>\n",
       "      <th>4</th>\n",
       "      <td>sample</td>\n",
       "      <td>5</td>\n",
       "      <td>Depending on side - effects of radiotherapy , ...</td>\n",
       "      <td>True</td>\n",
       "      <td>Housing-NoSDoH</td>\n",
       "      <td>1</td>\n",
       "    </tr>\n",
       "    <tr>\n",
       "      <th>5</th>\n",
       "      <td>sample</td>\n",
       "      <td>6</td>\n",
       "      <td>Patient feeling slightly overwhelmed by everyt...</td>\n",
       "      <td>False</td>\n",
       "      <td>NoSDoH</td>\n",
       "      <td>0</td>\n",
       "    </tr>\n",
       "    <tr>\n",
       "      <th>6</th>\n",
       "      <td>sample</td>\n",
       "      <td>7</td>\n",
       "      <td>FPOC and Carers Support Shropshire numbers giv...</td>\n",
       "      <td>True</td>\n",
       "      <td>Race/Ethnicity-Adverse, SocialSupport-Protective</td>\n",
       "      <td>2</td>\n",
       "    </tr>\n",
       "    <tr>\n",
       "      <th>7</th>\n",
       "      <td>sample</td>\n",
       "      <td>8</td>\n",
       "      <td>Very supportive daughter who lives in [PERSON]</td>\n",
       "      <td>True</td>\n",
       "      <td>SocialSupport-Protective</td>\n",
       "      <td>1</td>\n",
       "    </tr>\n",
       "    <tr>\n",
       "      <th>8</th>\n",
       "      <td>sample</td>\n",
       "      <td>9</td>\n",
       "      <td>The patient is due to start radiotherapy on [R...</td>\n",
       "      <td>True</td>\n",
       "      <td>SocialSupport-Protective</td>\n",
       "      <td>1</td>\n",
       "    </tr>\n",
       "    <tr>\n",
       "      <th>9</th>\n",
       "      <td>sample</td>\n",
       "      <td>10</td>\n",
       "      <td>Due to start radiotherapy on [REDACTED] at SAT...</td>\n",
       "      <td>False</td>\n",
       "      <td>NoSDoH</td>\n",
       "      <td>0</td>\n",
       "    </tr>\n",
       "  </tbody>\n",
       "</table>\n",
       "</div>"
      ],
      "text/plain": [
       "  note_id  sentence_number                                           sentence  \\\n",
       "0  sample                1       Lives with husband for whom patient is carer   \n",
       "1  sample                2                   Living on ready meals at present   \n",
       "2  sample                3  [PERSON] concerned that they may not be eating...   \n",
       "3  sample                4  Carers in [REDACTED] times daily for patient t...   \n",
       "4  sample                5  Depending on side - effects of radiotherapy , ...   \n",
       "5  sample                6  Patient feeling slightly overwhelmed by everyt...   \n",
       "6  sample                7  FPOC and Carers Support Shropshire numbers giv...   \n",
       "7  sample                8     Very supportive daughter who lives in [PERSON]   \n",
       "8  sample                9  The patient is due to start radiotherapy on [R...   \n",
       "9  sample               10  Due to start radiotherapy on [REDACTED] at SAT...   \n",
       "\n",
       "   has_sdoh                                       sdoh_factors  \\\n",
       "0      True  RelationshipStatus-Protective, Housing-Protective   \n",
       "1      True                             FoodInsecurity-Adverse   \n",
       "2      True                              FoodInsecurity-Advers   \n",
       "3      True                           SocialSupport-Protective   \n",
       "4      True                                     Housing-NoSDoH   \n",
       "5     False                                             NoSDoH   \n",
       "6      True   Race/Ethnicity-Adverse, SocialSupport-Protective   \n",
       "7      True                           SocialSupport-Protective   \n",
       "8      True                           SocialSupport-Protective   \n",
       "9     False                                             NoSDoH   \n",
       "\n",
       "   num_sdoh_factors  \n",
       "0                 2  \n",
       "1                 1  \n",
       "2                 1  \n",
       "3                 1  \n",
       "4                 1  \n",
       "5                 0  \n",
       "6                 2  \n",
       "7                 1  \n",
       "8                 1  \n",
       "9                 0  "
      ]
     },
     "metadata": {},
     "output_type": "display_data"
    }
   ],
   "source": [
    "# Initialize the SDoH extractor\n",
    "extractor_lvl2 = SDoHExtractor(\n",
    "    model=model,\n",
    "    tokenizer=tokenizer,\n",
    "    prompt_type=\"five_shot_basic\",\n",
    "    level=2,\n",
    "    debug=True,\n",
    ")\n",
    "\n",
    "# Extract SDoH factors\n",
    "results_lvl2 = extractor_lvl2.extract_from_note(sample_note)\n",
    "results_lvl2_df = extractor_lvl2.results_to_dataframe(results_lvl2, note_id=\"sample\")\n",
    "\n",
    "print(\"\\nExtracted SDoH Factors (Level 2):\")\n",
    "display(results_lvl2_df)"
   ]
  },
  {
   "cell_type": "markdown",
   "id": "456c7cf8",
   "metadata": {},
   "source": [
    "## Batch extraction"
   ]
  },
  {
   "cell_type": "markdown",
   "id": "cf75218a",
   "metadata": {},
   "source": [
    "The following script processes a batch of notes, based on the SDoH extractor used for a single note earlier. It includes many options that can be modified:\n",
    "\n",
    "- model name\n",
    "- prompt type\n",
    "- level of classification (1 for mention of SDoH, 2 for adverse vs. protective mention)\n",
    "- batch size and start index\n",
    "\n",
    "\n",
    "To run it, enter the following command in the terminal, after activating the conda environment and adjusting the options:\n",
    "\n",
    "```console\n",
    "python scripts/batch_process_notes.py --model_name \"meta-llama/Llama-3.1-8B-Instruct\" \\\n",
    "                                 --prompt_type \"five_shot_basic\" \\\n",
    "                                 --level 1 \\\n",
    "                                 --batch_size 10 \\\n",
    "                                 --start_index 0\n",
    "```"
   ]
  },
  {
   "cell_type": "code",
   "execution_count": 7,
   "id": "570becf1",
   "metadata": {},
   "outputs": [],
   "source": [
    "# Read batch result csv\n",
    "batch_results_path = \"../results/batch_results/Llama_3.1_8B_Instruct_five_shot_basic_L1_0-9.csv\"\n",
    "\n",
    "batch_results_df = pd.read_csv(batch_results_path)"
   ]
  }
 ],
 "metadata": {
  "kernelspec": {
   "display_name": "keble8263-sdoh-extraction",
   "language": "python",
   "name": "python3"
  },
  "language_info": {
   "codemirror_mode": {
    "name": "ipython",
    "version": 3
   },
   "file_extension": ".py",
   "mimetype": "text/x-python",
   "name": "python",
   "nbconvert_exporter": "python",
   "pygments_lexer": "ipython3",
   "version": "3.10.17"
  }
 },
 "nbformat": 4,
 "nbformat_minor": 5
}
