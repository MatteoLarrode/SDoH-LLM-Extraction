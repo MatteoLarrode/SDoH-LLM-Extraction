{
 "cells": [
  {
   "cell_type": "markdown",
   "id": "3e413d4d",
   "metadata": {},
   "source": [
    "# LLM Finetuning Hyperparameter Optimisation"
   ]
  },
  {
   "cell_type": "markdown",
   "id": "d5e6cf3e",
   "metadata": {},
   "source": [
    "## 0. Setup"
   ]
  },
  {
   "cell_type": "code",
   "execution_count": 14,
   "id": "97c7d8bf",
   "metadata": {},
   "outputs": [],
   "source": [
    "%load_ext autoreload\n",
    "%autoreload 2"
   ]
  },
  {
   "cell_type": "code",
   "execution_count": 15,
   "id": "c38c32e3",
   "metadata": {},
   "outputs": [],
   "source": [
    "import os\n",
    "import pandas as pd\n",
    "import numpy as np\n",
    "from pathlib import Path\n",
    "import sys\n",
    "import json\n",
    "\n",
    "# Add the project root to the Python path to import the modules\n",
    "project_root = Path().absolute().parent\n",
    "sys.path.append(str(project_root))"
   ]
  },
  {
   "cell_type": "markdown",
   "id": "d9cd8299",
   "metadata": {},
   "source": [
    "## 1. LLaMA Parameter Optimisation"
   ]
  },
  {
   "cell_type": "markdown",
   "id": "5fb3863f",
   "metadata": {},
   "source": [
    "### 1.1. Training"
   ]
  },
  {
   "cell_type": "markdown",
   "id": "5ee2df90",
   "metadata": {},
   "source": [
    "*Question 1: Which model does the training save? Which performance is it based off of?*\n",
    "\n",
    "`load_best_model_at_end=True,` combined with `eval_strategy=\"epoch\", save_strategy=\"epoch\", save_total_limit=1,` means that \n",
    "\n",
    "- The model is evaluated at the end of each epoch.\n",
    "- Only the best model according to the default metric is retained at the end (save_total_limit=1 prevents clutter).\n",
    "- `Trainer` will automatically reload the best-performing checkpoint at the end based on the evaluation loss (by default).\n",
    "\n",
    "So **the model saved is the one with the lowest validation loss at the end of its epoch**.\n"
   ]
  },
  {
   "cell_type": "markdown",
   "id": "86a80515",
   "metadata": {},
   "source": [
    "*Question 2: Which training/LoRA parameters can be explored to improve performance?*\n",
    "\n",
    "There are two optimisation targets:\n",
    "- LoRA configuration\n",
    "- Training hyperparameters\n",
    "\n",
    "(A) LoRA parameters (from LoraConfig) include\n",
    "- r (e.g. 4 ro 32)\n",
    "- lora_alpha (e.g. 8 to 64)\n",
    "- target modules (e.g q_proj, k_proj, v_proj, o_proj, but also gate_proj, down_proj, up_proj)\n",
    "- lora_dropout (0, or 0.05, 0.1 if overfitting)\n",
    "\n",
    "(B) Training hyperparameters (from TrainingArguments)\n",
    "- learning_rate (e.g. 9e-5 to 2e-4)\n",
    "- per_device_train_batch_size (e.g. 4 to 16)\n",
    "- num_train_epochs\n",
    "- warmup_ratio\n",
    "- lr_scheduler_type\n",
    "- weight_decay\n",
    "- gradient_accumulation_steps"
   ]
  },
  {
   "cell_type": "code",
   "execution_count": 2,
   "id": "9b81c1a3",
   "metadata": {},
   "outputs": [
    {
     "name": "stdout",
     "output_type": "stream",
     "text": [
      "✅ LaTeX table with top 10 and bolded best Macro-F1 saved to ../results/latex_tables/top10_llama_search.tex\n"
     ]
    }
   ],
   "source": [
    "import re\n",
    "import pandas as pd\n",
    "from pathlib import Path\n",
    "\n",
    "# Paths\n",
    "log_path = \"../results/random_searches/llama_search_runs/search_progress_log.txt\"\n",
    "output_dir = Path(\"../results/latex_tables\")\n",
    "output_dir.mkdir(parents=True, exist_ok=True)\n",
    "output_file = output_dir / \"top10_llama_search.tex\"\n",
    "\n",
    "# Read log\n",
    "with open(log_path, \"r\") as f:\n",
    "    log_lines = f.readlines()\n",
    "\n",
    "entries = []\n",
    "for line in log_lines:\n",
    "    run_match = re.search(r\"run_\\d+_r(\\d+)_alpha(\\d+)_drop([0-9.]+)_lr([\\deE.-]+)_bs(\\d+)\", line)\n",
    "    f1_match = re.search(r\"macro_f1: ([0-9.]+)\", line)\n",
    "    if run_match and f1_match:\n",
    "        r, alpha, drop, lr, bs = run_match.groups()\n",
    "        entries.append({\n",
    "            \"LoRA rank ($r$)\": int(r),\n",
    "            \"LoRA alpha\": int(alpha),\n",
    "            \"LoRA dropout\": float(drop),\n",
    "            \"Learning rate\": lr,\n",
    "            \"Batch size\": int(bs),\n",
    "            \"Macro-F1\": float(f1_match.group(1))\n",
    "        })\n",
    "\n",
    "# DataFrame and top 10\n",
    "df = pd.DataFrame(entries)\n",
    "top10 = df.sort_values(\"Macro-F1\", ascending=False).head(10).reset_index(drop=True)\n",
    "\n",
    "# Round values\n",
    "top10[\"LoRA dropout\"] = top10[\"LoRA dropout\"].round(2)\n",
    "top10[\"Macro-F1\"] = top10[\"Macro-F1\"].round(2)\n",
    "\n",
    "# Convert all values to string for LaTeX formatting\n",
    "top10 = top10.astype(str)\n",
    "\n",
    "# Bold only the best Macro-F1 value\n",
    "best_idx = top10[\"Macro-F1\"].astype(float).idxmax()\n",
    "top10.at[best_idx, \"Macro-F1\"] = f\"\\\\textbf{{{top10.at[best_idx, 'Macro-F1']}}}\"\n",
    "\n",
    "# Reorder columns and add vertical bar before Macro-F1\n",
    "columns = [\"LoRA rank ($r$)\", \"LoRA alpha\", \"LoRA dropout\", \"Learning rate\", \"Batch size\", \"Macro-F1\"]\n",
    "column_format = \"lllll|l\"  # vertical bar before last column\n",
    "\n",
    "# Generate LaTeX\n",
    "latex_table = top10.to_latex(index=False, escape=False, column_format=column_format)\n",
    "\n",
    "# Wrap in resizebox with caption and label\n",
    "wrapped_latex = f\"\"\"\n",
    "\\\\centering\n",
    "\\\\resizebox{{\\\\linewidth}}{{!}}{{%\n",
    "{latex_table}\n",
    "}}\n",
    "\"\"\"\n",
    "\n",
    "# Save LaTeX file\n",
    "with open(output_file, \"w\") as f:\n",
    "    f.write(wrapped_latex)\n",
    "\n",
    "print(f\"✅ LaTeX table with top 10 and bolded best Macro-F1 saved to {output_file}\")"
   ]
  },
  {
   "cell_type": "markdown",
   "id": "eecc09a1",
   "metadata": {},
   "source": [
    "## 2. RoBERTa Parameter Optimisation"
   ]
  },
  {
   "cell_type": "markdown",
   "id": "445963d2",
   "metadata": {},
   "source": [
    "### 2.1. Training"
   ]
  },
  {
   "cell_type": "markdown",
   "id": "f28788e5",
   "metadata": {},
   "source": [
    "This section describes how I fine-tuned a RoBERTa model to classify sentences as containing Social Determinants of Health (SDoH) or not.\n",
    "\n",
    "#### Loss Function\n",
    "\n",
    "I use **Binary Cross-Entropy with Logits Loss** (`BCEWithLogitsLoss`) with a `pos_weight` parameter to address class imbalance:\n",
    "\n",
    "\\[\n",
    "\\mathcal{L}(z, y) = -w \\cdot \\left[y \\cdot \\log(\\sigma(z)) + (1 - y) \\cdot \\log(1 - \\sigma(z))\\right]\n",
    "\\]\n",
    "\n",
    "- \\( z \\): raw model output (logit)\n",
    "- \\( y \\in \\{0, 1\\} \\): binary label\n",
    "- \\( \\sigma(z) \\): sigmoid function\n",
    "- \\( w = \\text{pos\\_weight} \\): balancing weight, set to `#neg / #pos` in training data\n",
    "\n",
    "This setup ensures greater penalty for misclassifying positive (minority class) examples.\n",
    "\n",
    "#### Tunable Parameters\n",
    "\n",
    "I explored the impact of the following hyperparameters on model performance:\n",
    "\n",
    "| Category         | Parameter                  | Description                                              | Typical Values       |\n",
    "|------------------|----------------------------|----------------------------------------------------------|----------------------|\n",
    "| **Model**        | `num_frozen_layers`        | Number of RoBERTa encoder layers to freeze               | `0`, `6`, `10`       |\n",
    "| **Training**     | `learning_rate`            | Optimizer learning rate                                  | `1e-5` to `5e-5`     |\n",
    "|                  | `num_of_epochs`            | Number of training epochs                                | `3` to `10`          |\n",
    "|                  | `per_device_train_batch_size` | Batch size per GPU                                      | `4`, `8`, `16`       |\n",
    "| **Tokenizer**    | `max_length`               | Maximum sequence length after tokenization               | `64`, `128`          |\n",
    "| **Model head**   | Dropout rate               | Dropout before classification layer                      | `0.1`, `0.3`, `0.5`  |\n",
    "\n",
    "#### Optimization Strategy\n",
    "\n",
    "I conduct manual grid search and record performance (macro F1, validation loss) for each combination. Best models are selected based on lowest validation loss."
   ]
  },
  {
   "cell_type": "code",
   "execution_count": 28,
   "id": "42185da0",
   "metadata": {},
   "outputs": [
    {
     "name": "stdout",
     "output_type": "stream",
     "text": [
      "✅ LaTeX saved to ../results/latex_tables/top10_roberta_search.tex\n"
     ]
    }
   ],
   "source": [
    "import re\n",
    "import pandas as pd\n",
    "from pathlib import Path\n",
    "\n",
    "# Paths\n",
    "log_path = \"../results/random_searches/roberta_search_runs/eval_loss_1.txt\"\n",
    "output_dir = Path(\"../results/latex_tables\")\n",
    "output_dir.mkdir(parents=True, exist_ok=True)\n",
    "output_file = output_dir / \"top10_roberta_search.tex\"\n",
    "\n",
    "# Read log lines\n",
    "entries = []\n",
    "with open(log_path, \"r\") as f:\n",
    "    for line in f:\n",
    "        line = line.strip()\n",
    "        match = re.search(r\"lr([\\deE.-]+)_bs(\\d+)_drop([\\d.]+)_frozen(\\d+)_.*eval_loss=([\\d.]+)\", line)\n",
    "        if match:\n",
    "            lr, bs, drop, frozen, loss = match.groups()\n",
    "            entries.append({\n",
    "                \"Learning rate\": lr,\n",
    "                \"Batch size\": int(bs),\n",
    "                \"Dropout\": float(drop),\n",
    "                \"Frozen layers\": int(frozen),\n",
    "                \"Eval loss\": float(loss)\n",
    "            })\n",
    "\n",
    "# Convert to DataFrame and remove duplicates\n",
    "df = pd.DataFrame(entries)\n",
    "if df.empty:\n",
    "    raise ValueError(\"❌ No entries matched — check input log format.\")\n",
    "df = df.drop_duplicates(subset=[\"Learning rate\", \"Batch size\", \"Dropout\", \"Frozen layers\"])\n",
    "\n",
    "# Format table\n",
    "top10 = df.sort_values(\"Eval loss\").head(10).reset_index(drop=True)\n",
    "top10[\"Dropout\"] = top10[\"Dropout\"].round(2)\n",
    "top10[\"Eval loss\"] = top10[\"Eval loss\"].round(3)\n",
    "top10 = top10.astype(str)\n",
    "\n",
    "# Bold the best eval loss\n",
    "best_idx = top10[\"Eval loss\"].astype(float).idxmin()\n",
    "top10.loc[best_idx, \"Eval loss\"] = f\"\\\\textbf{{{top10.loc[best_idx, 'Eval loss']}}}\"\n",
    "\n",
    "# Create LaTeX with vertical bar\n",
    "latex_table = top10.to_latex(index=False, escape=False, column_format=\"llll|l\")\n",
    "\n",
    "# Wrap\n",
    "wrapped_latex = f\"\"\"\n",
    "\\\\centering\n",
    "{latex_table}\n",
    "\"\"\"\n",
    "\n",
    "# Save\n",
    "with open(output_file, \"w\") as f:\n",
    "    f.write(wrapped_latex)\n",
    "\n",
    "print(f\"✅ LaTeX saved to {output_file}\")"
   ]
  },
  {
   "cell_type": "markdown",
   "id": "4722c4a0",
   "metadata": {},
   "source": [
    "### 2.2 Impact of parameters on performance"
   ]
  },
  {
   "cell_type": "markdown",
   "id": "603782f1",
   "metadata": {},
   "source": [
    "### 2.3 Threshold sweep for high recall\n",
    "\n",
    "Done on the validation set."
   ]
  },
  {
   "cell_type": "code",
   "execution_count": 27,
   "id": "df47b749",
   "metadata": {},
   "outputs": [
    {
     "data": {
      "image/png": "[encoded data removed]",
      "text/plain": [
       "<Figure size 1000x600 with 1 Axes>"
      ]
     },
     "metadata": {},
     "output_type": "display_data"
    }
   ],
   "source": [
    "import pandas as pd\n",
    "import numpy as np\n",
    "import matplotlib.pyplot as plt\n",
    "from sklearn.metrics import precision_recall_fscore_support\n",
    "from pathlib import Path\n",
    "\n",
    "from src.visualisations_helpers import set_visualization_style\n",
    "\n",
    "# Apply style\n",
    "set_visualization_style()\n",
    "\n",
    "# Load predictions\n",
    "model_dir = \"../results/model_training/roberta_binary/best_model/roberta-base_bs4_lr7e-05_20250726_140551/checkpoint-66\"\n",
    "df = pd.read_csv(f\"{model_dir}/binary_predictions_val_set.csv\")\n",
    "\n",
    "# Convert labels to binary\n",
    "y_true = (df[\"True Label\"] == \"Any SDoH\").astype(int).values\n",
    "probs = df[\"Prob_SDoH\"].values\n",
    "\n",
    "# Thresholds\n",
    "thresholds = np.linspace(0.1, 0.9, 81)\n",
    "results = []\n",
    "\n",
    "for t in thresholds:\n",
    "    y_pred = (probs > t).astype(int)\n",
    "    precision, recall, f1, _ = precision_recall_fscore_support(\n",
    "        y_true, y_pred, average=\"binary\", zero_division=0\n",
    "    )\n",
    "    results.append({\"threshold\": t, \"precision\": precision, \"recall\": recall, \"f1\": f1})\n",
    "\n",
    "results_df = pd.DataFrame(results)\n",
    "\n",
    "# Plot\n",
    "fig, ax = plt.subplots()\n",
    "ax.plot(results_df[\"threshold\"], results_df[\"precision\"], label=\"Precision\", color=\"#cccccc\")\n",
    "ax.plot(results_df[\"threshold\"], results_df[\"recall\"], label=\"Recall\", color=\"black\")\n",
    "ax.plot(results_df[\"threshold\"], results_df[\"f1\"], label=\"F1 Score\", color=\"#666666\")\n",
    "ax.axvline(0.40, color=\"black\", linestyle=\"--\", linewidth=1)\n",
    "ax.text(0.405, 0.55, 'Threshold = 0.40', rotation=90, va='bottom', fontsize=9, color='black')\n",
    "ax.axvline(0.50, color=\"black\", linestyle=\"--\", linewidth=1)\n",
    "ax.text(0.505, 0.55, 'Threshold = 0.50', rotation=90, va='bottom', fontsize=9, color='black')\n",
    "\n",
    "ax.set_xlabel(\"Decision Threshold\")\n",
    "ax.set_ylabel(\"Score\")\n",
    "ax.set_ylim(0.5, 1.05)\n",
    "ax.legend()\n",
    "fig.tight_layout()\n",
    "\n",
    "# Save\n",
    "output_dir = Path(\"../results/figures/appendix\")\n",
    "output_dir.mkdir(parents=True, exist_ok=True)\n",
    "plt.savefig(output_dir / \"roberta_threshold_sweep_greyscale.png\", dpi=300)\n",
    "plt.show()\n",
    "plt.close()"
   ]
  },
  {
   "cell_type": "code",
   "execution_count": 25,
   "id": "fbd28535",
   "metadata": {},
   "outputs": [
    {
     "name": "stdout",
     "output_type": "stream",
     "text": [
      "📊 Threshold = 0.40\n",
      "  Precision: 0.877\n",
      "  Recall:    0.950\n",
      "  F1 Score:  0.912\n",
      "📊 Threshold = 0.50\n",
      "  Precision: 0.873\n",
      "  Recall:    0.917\n",
      "  F1 Score:  0.894\n"
     ]
    }
   ],
   "source": [
    "# Print metrics at selected thresholds\n",
    "for thresh in [0.40, 0.50]:\n",
    "    row = results_df[np.isclose(results_df[\"threshold\"], thresh, atol=1e-4)].iloc[0]\n",
    "    print(f\"📊 Threshold = {thresh:.2f}\")\n",
    "    print(f\"  Precision: {row['precision']:.3f}\")\n",
    "    print(f\"  Recall:    {row['recall']:.3f}\")\n",
    "    print(f\"  F1 Score:  {row['f1']:.3f}\")"
   ]
  },
  {
   "cell_type": "markdown",
   "id": "bd0d3d38",
   "metadata": {},
   "source": [
    "## Final Parameters\n",
    "\n",
    "Binary classification:\n",
    "- RoBERTa (125M): \n",
    "    - Lr: 7e-05\n",
    "    - Batch size: 4\n",
    "    - Dropout: 0.3\n",
    "    - Other: {Frozen layers: 8; Threshold: 0.4}\n",
    "\n",
    "Multilabel classification: \n",
    "- LLaMA 3.1 8B - Instruct (8B) (fine-tuned):\n",
    "    - Lr: 3e-05\n",
    "    - Batch size: 4\n",
    "    - Dropout: 0.0\n",
    "    - Other: {LoRA rank: 8; LoRA alpha: 64}\n",
    "\n",
    "- LLaMA 3.1 8B - Instruct (8B) (few-shot):\n",
    "    - Lr: -\n",
    "    - Batch size: -\n",
    "    - Dropout: -\n",
    "    - Other: {-}\n"
   ]
  },
  {
   "cell_type": "markdown",
   "id": "bccac3c4",
   "metadata": {},
   "source": []
  }
 ],
 "metadata": {
  "kernelspec": {
   "display_name": "keble8263-sdoh-extraction",
   "language": "python",
   "name": "python3"
  },
  "language_info": {
   "codemirror_mode": {
    "name": "ipython",
    "version": 3
   },
   "file_extension": ".py",
   "mimetype": "text/x-python",
   "name": "python",
   "nbconvert_exporter": "python",
   "pygments_lexer": "ipython3",
   "version": "3.10.17"
  }
 },
 "nbformat": 4,
 "nbformat_minor": 5
}
