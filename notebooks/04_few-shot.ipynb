{
 "cells": [
  {
   "cell_type": "markdown",
   "id": "7d71a71a",
   "metadata": {},
   "source": [
    "# Few-shot Classifiction of SDoH"
   ]
  },
  {
   "cell_type": "markdown",
   "id": "4f133f46",
   "metadata": {},
   "source": [
    "## 0. Setup"
   ]
  },
  {
   "cell_type": "code",
   "execution_count": 1,
   "id": "51994ec7",
   "metadata": {},
   "outputs": [],
   "source": [
    "%load_ext autoreload\n",
    "%autoreload 2"
   ]
  },
  {
   "cell_type": "code",
   "execution_count": 2,
   "id": "0bb2a97e",
   "metadata": {},
   "outputs": [],
   "source": [
    "import pandas as pd\n",
    "import os\n",
    "from pathlib import Path\n",
    "import sys\n",
    "from IPython.display import display, HTML\n",
    "\n",
    "# Add the project root to the Python path to import the modules\n",
    "project_root = Path().absolute().parent\n",
    "sys.path.append(str(project_root))"
   ]
  },
  {
   "cell_type": "code",
   "execution_count": 3,
   "id": "1860d8eb",
   "metadata": {},
   "outputs": [
    {
     "name": "stderr",
     "output_type": "stream",
     "text": [
      "/opt/anaconda/envs/keble8263-sdoh-extraction/lib/python3.10/site-packages/transformers/utils/hub.py:111: FutureWarning: Using `TRANSFORMERS_CACHE` is deprecated and will be removed in v5 of Transformers. Use `HF_HOME` instead.\n",
      "  warnings.warn(\n"
     ]
    }
   ],
   "source": [
    "import torch\n",
    "import transformers\n",
    "\n",
    "# Use shared cache\n",
    "os.environ['HF_HOME'] = '/data/resource/huggingface'\n",
    "os.environ['TRANSFORMERS_OFFLINE'] = '1'  # Force offline mode\n",
    "\n",
    "# What models are available\n",
    "cache_dir = \"/data/resource/huggingface/hub\"\n",
    "available_models = []\n",
    "\n",
    "# Suppress warnings from transformers\n",
    "transformers.logging.set_verbosity_error()"
   ]
  },
  {
   "cell_type": "code",
   "execution_count": 4,
   "id": "9b75ee01",
   "metadata": {},
   "outputs": [],
   "source": [
    "# Load cleaned data\n",
    "brc_referrals_cleaned = pd.read_csv(\"../data/processed/brc-cleaned/referrals_cleaned.csv\")"
   ]
  },
  {
   "cell_type": "markdown",
   "id": "456c7cf8",
   "metadata": {},
   "source": [
    "## 1. Few-shot classification of SDoH"
   ]
  },
  {
   "cell_type": "markdown",
   "id": "b1461c3e",
   "metadata": {},
   "source": [
    "### 1.1 Loading the models"
   ]
  },
  {
   "cell_type": "code",
   "execution_count": 4,
   "id": "0b3ed5d7",
   "metadata": {},
   "outputs": [
    {
     "name": "stdout",
     "output_type": "stream",
     "text": [
      "Available cached models:\n",
      "  CohereForAI/aya-23-35B\n",
      "  CohereForAI/aya-23-8B\n",
      "  CohereForAI/aya-vision-8b\n",
      "  HuggingFaceTB/SmolLM-135M-Instruct\n",
      "  LLaMAX/LLaMAX3-8B-Alpaca\n",
      "  Qwen/Qwen1.5-4B\n",
      "  Qwen/Qwen2-7B\n",
      "  Qwen/Qwen2.5-1.5B\n",
      "  Qwen/Qwen2.5-3B\n",
      "  Qwen/Qwen2.5-72B-Instruct\n",
      "  Qwen/Qwen2.5-7B\n",
      "  Qwen/Qwen2.5-7B-Instruct\n",
      "  Qwen/Qwen2.5-7B-instruct\n",
      "  Qwen/Qwen2.5-VL-7B-Instruct\n",
      "  Qwen/Qwen3-0.6B\n",
      "  Qwen/Qwen3-8B\n",
      "  Unbabel/wmt20-comet-qe-da\n",
      "  Unbabel/wmt22-comet-da\n",
      "  bert-base-uncased\n",
      "  bert-large-uncased\n",
      "  cardiffnlp/twitter-roberta-base-sentiment\n",
      "  cardiffnlp/twitter-roberta-base-sentiment-latest\n",
      "  clairebarale/refugee_cases_ner\n",
      "  cross-encoder/nli-deberta-v3-large\n",
      "  cross-encoder/stsb-roberta-base\n",
      "  cross-encoder/stsb-roberta-large\n",
      "  deepseek-ai/DeepSeek-R1-Distill-Llama-70B\n",
      "  deepseek-ai/DeepSeek-R1-Distill-Llama-8B\n",
      "  deepseek-ai/DeepSeek-R1-Distill-Qwen-14B\n",
      "  deepseek-ai/DeepSeek-R1-Distill-Qwen-32B\n",
      "  deepseek-ai/DeepSeek-R1-Distill-Qwen-7B\n",
      "  facebook/nllb-200-3.3B\n",
      "  facebook/nllb-200-distilled-1.3B\n",
      "  facebook/nllb-200-distilled-600M\n",
      "  google/gemma-3-1b-it\n",
      "  google/gemma-3-27b-it\n",
      "  google/gemma-3-27b-it-qat-q4_0-gguf\n",
      "  gpt2\n",
      "  gpt2-medium\n",
      "  gpt2-xl\n",
      "  hfl/chinese-bert-wwm\n",
      "  hfl/chinese-electra-180g-small-discriminator\n",
      "  hfl/chinese-legal-electra-base-discriminator\n",
      "  hfl/chinese-legal-electra-small-discriminator\n",
      "  hfl/chinese-roberta-wwm-ext\n",
      "  hfl/chinese-roberta-wwm-ext-large\n",
      "  jxm/gtr__nq__32\n",
      "  jxm/gtr__nq__32__correct\n",
      "  meta-llama/Llama-2-7b-chat-hf\n",
      "  meta-llama/Llama-2-7b-hf\n",
      "  meta-llama/Llama-3.1-70B-Instruct\n",
      "  meta-llama/Llama-3.1-8B\n",
      "  meta-llama/Llama-3.1-8B-Instruct\n",
      "  meta-llama/Llama-3.2-11B-Vision-Instruct\n",
      "  meta-llama/Llama-3.3-70B-Instruct\n",
      "  meta-llama/Llama-4-Scout-17B-16E\n",
      "  meta-llama/Meta-Llama-3-70B-Instruct\n",
      "  meta-llama/Meta-Llama-3-8B\n",
      "  meta-llama/Meta-Llama-3-8B-Instruct\n",
      "  meta-llama/Meta-Llama-3.1-8B-Instruct\n",
      "  microsoft/Phi-3-mini-4k-instruct\n",
      "  microsoft/Phi-3.5-vision-instruct\n",
      "  microsoft/Phi-4-mini-instruct\n",
      "  microsoft/Phi-4-multimodal-instruct\n",
      "  microsoft/deberta-large-mnli\n",
      "  microsoft/deberta-v3-base\n",
      "  microsoft/deberta-xlarge\n",
      "  microsoft/deberta-xlarge-mnli\n",
      "  mistral-community/pixtral-12b\n",
      "  mistralai/Mistral-7B-Instruct-v0.2\n",
      "  mistralai/Mistral-7B-Instruct-v0.3\n",
      "  mistralai/Mistral-7B-v0.1\n",
      "  mistralai/Mixtral-8x7B-Instruct-v0.1\n",
      "  mosaicml/mpt-7b-chat\n",
      "  nlpaueb/legal-bert-base-uncased\n",
      "  nvidia/Llama-3.1-Nemotron-Nano-8B-v1\n",
      "  openai-community/gpt2\n",
      "  openai-community/gpt2-large\n",
      "  openai-community/gpt2-medium\n",
      "  openai-community/gpt2-xl\n",
      "  openai/whisper-large-v3-turbo\n",
      "  openbmb/MiniCPM-o-2_6\n",
      "  roberta-base\n",
      "  roberta-large\n",
      "  saibo/legal-roberta-base\n",
      "  sentence-transformers/LaBSE\n",
      "  sentence-transformers/all-MPNet-base-v2\n",
      "  sentence-transformers/all-MiniLM-L6-v2\n",
      "  sentence-transformers/all-mpnet-base-v2\n",
      "  sentence-transformers/gtr-t5-base\n",
      "  sentence-transformers/msmarco-bert-co-condensor\n",
      "  sentence-transformers/paraphrase-distilroberta-base-v2\n",
      "  sentence-transformers/paraphrase-multilingual-MiniLM-L12-v2\n",
      "  sentence-transformers/paraphrase-multilingual-mpnet-base-v2\n",
      "  shibing624/text2vec-base-chinese\n",
      "  t5-base\n",
      "  t5-large\n",
      "  t5-small\n",
      "  unsloth/llama-3-8b-bnb-4bit\n",
      "  unsloth/meta-llama-3.1-8b-instruct-bnb-4bit\n",
      "  unslothai/2\n",
      "  unslothai/4\n",
      "  unslothai/other\n",
      "  unslothai/repeat\n",
      "  unslothai/vram-48\n",
      "  vahidthegreat/StanceAware-SBERT\n",
      "  xlm-roberta-base\n",
      "  xlm-roberta-large\n"
     ]
    }
   ],
   "source": [
    "if os.path.exists(cache_dir):\n",
    "    for item in os.listdir(cache_dir):\n",
    "        if item.startswith(\"models--\"):\n",
    "            # Convert models--org--name to org/name format\n",
    "            model_name = item.replace(\"models--\", \"\").replace(\"--\", \"/\")\n",
    "            available_models.append(model_name)\n",
    "\n",
    "print(\"Available cached models:\")\n",
    "for model in sorted(available_models):\n",
    "    print(f\"  {model}\")"
   ]
  },
  {
   "cell_type": "code",
   "execution_count": 6,
   "id": "2c75c022",
   "metadata": {},
   "outputs": [
    {
     "name": "stdout",
     "output_type": "stream",
     "text": [
      "Transformers version: 4.52.3\n",
      "PyTorch version: 2.6.0\n",
      "CUDA available: True\n"
     ]
    }
   ],
   "source": [
    "print(f\"Transformers version: {transformers.__version__}\")\n",
    "print(f\"PyTorch version: {torch.__version__}\")\n",
    "print(f\"CUDA available: {torch.cuda.is_available()}\")"
   ]
  },
  {
   "cell_type": "code",
   "execution_count": 7,
   "id": "3a6ca370",
   "metadata": {},
   "outputs": [
    {
     "name": "stdout",
     "output_type": "stream",
     "text": [
      "Loading meta-llama/Llama-3.1-8B-Instruct...\n"
     ]
    },
    {
     "data": {
      "application/vnd.jupyter.widget-view+json": {
       "model_id": "66457c9cb96d4127bd3dc24a808fcde3",
       "version_major": 2,
       "version_minor": 0
      },
      "text/plain": [
       "Loading checkpoint shards:   0%|          | 0/4 [00:00<?, ?it/s]"
      ]
     },
     "metadata": {},
     "output_type": "display_data"
    },
    {
     "name": "stdout",
     "output_type": "stream",
     "text": [
      "✓ meta-llama/Llama-3.1-8B-Instruct loaded successfully!\n"
     ]
    }
   ],
   "source": [
    "# Load one of the instruction-tuned models\n",
    "# Qwen/Qwen2.5-7B-Instruct\n",
    "# meta-llama/Llama-3.1-8B-Instruct\n",
    "# microsoft/Phi-4-mini-instruct\n",
    "# mistralai/Mistral-7B-Instruct-v0.3\n",
    "\n",
    "from src.classification.model_helpers import load_instruction_model\n",
    "\n",
    "model_name = \"meta-llama/Llama-3.1-8B-Instruct\"\n",
    "tokenizer, model = None, None\n",
    "\n",
    "tokenizer, model = load_instruction_model(model_name)"
   ]
  },
  {
   "cell_type": "markdown",
   "id": "e423c8c5",
   "metadata": {},
   "source": [
    "### 1.2 Extraction from one note"
   ]
  },
  {
   "cell_type": "code",
   "execution_count": 8,
   "id": "89f573d9",
   "metadata": {},
   "outputs": [],
   "source": [
    "# Load a specific note: Case Reference = CAS-467812\n",
    "sample_note = brc_referrals_cleaned[brc_referrals_cleaned['Case Reference'] == 'CAS-467812'].iloc[0]['Referral Notes (depersonalised)']"
   ]
  },
  {
   "cell_type": "code",
   "execution_count": 9,
   "id": "a907ccb8",
   "metadata": {},
   "outputs": [
    {
     "name": "stdout",
     "output_type": "stream",
     "text": [
      "==================================================\n",
      "Example Prompt (Five Shot Basic):\n",
      "==================================================\n",
      "<|begin_of_text|><|start_header_id|>system<|end_header_id|>\n",
      "\n",
      "Cutting Knowledge Date: December 2023\n",
      "Today Date: 26 Jul 2024\n",
      "\n",
      "You are analyzing a referral note sentence to identify Social Determinants of Health, and classifying them as Adverse or Protective.\n",
      "\n",
      "Given a sentence, output all SDoH factors that can be inferred from that sentence from the following list: \n",
      "Loneliness, Housing, Finances, FoodAccess, Digital, Employment, EnglishProficiency.\n",
      "\n",
      "Each SDoH must be classified as either \"Adverse\" or \"Protective\". \n",
      "If the sentence does NOT mention any of the above categories, output <LIST>NoSDoH</LIST>.\n",
      "\n",
      "Your response must be a comma-separated list of SDoH-Polarity pairs embedded in <LIST> and </LIST> tags.\n",
      "\n",
      "**STRICT RULES**:\n",
      "- DO NOT generate any other text, explanations, or new SDoH labels.\n",
      "- A sentence CAN be labeled with one or more SDoH factors.\n",
      "- The only accepted format is <LIST>...</LIST>.\n",
      "\n",
      "EXAMPLES:\n",
      "Input: \"She is unemployed and struggles to pay rent.\"\n",
      "Output: <LIST>Employment-Adverse, Finances-Adverse, Housing-Adverse</LIST>\n",
      "\n",
      "Input: \"We are referring the above patient to you today for befriending.\"\n",
      "Output: <LIST>Loneliness-Adverse</LIST>\n",
      "\n",
      "Input: \"She enjoys a strong network of friends and volunteers weekly.\"\n",
      "Output: <LIST>Loneliness-Protective</LIST>\n",
      "\n",
      "Input: \"Sleeping at a friend's for now.\"\n",
      "Output: <LIST>Housing-Adverse</LIST>\n",
      "\n",
      "Input: \"Cannot take public transport to do groceries.\"\n",
      "Output: <LIST>FoodAccess-Adverse</LIST>\n",
      "\n",
      "Input: \"Daughter translates at GP visits.\"\n",
      "Output: <LIST>EnglishProficiency-Adverse</LIST><|eot_id|><|start_header_id|>user<|end_header_id|>\n",
      "\n",
      "Input: \"This is a sentence\"<|eot_id|><|start_header_id|>assistant<|end_header_id|>\n",
      "\n",
      "\n"
     ]
    }
   ],
   "source": [
    "from src.classification.prompt_creation_helpers import create_automated_prompt\n",
    "\n",
    "prompt_example_basic = create_automated_prompt(\"This is a sentence\", tokenizer=tokenizer, prompt_type=\"five_shot_basic\")\n",
    "print(\"=\" * 50)\n",
    "print(\"Example Prompt (Five Shot Basic):\")\n",
    "print(\"=\" * 50)\n",
    "print(prompt_example_basic)"
   ]
  },
  {
   "cell_type": "code",
   "execution_count": 10,
   "id": "63f19121",
   "metadata": {},
   "outputs": [
    {
     "name": "stdout",
     "output_type": "stream",
     "text": [
      "\n",
      "Extracted SDoH Factors:\n"
     ]
    },
    {
     "data": {
      "application/vnd.microsoft.datawrangler.viewer.v0+json": {
       "columns": [
        {
         "name": "index",
         "rawType": "int64",
         "type": "integer"
        },
        {
         "name": "note_id",
         "rawType": "object",
         "type": "string"
        },
        {
         "name": "sentence_number",
         "rawType": "int64",
         "type": "integer"
        },
        {
         "name": "sentence",
         "rawType": "object",
         "type": "string"
        },
        {
         "name": "has_sdoh",
         "rawType": "bool",
         "type": "boolean"
        },
        {
         "name": "sdoh_factors",
         "rawType": "object",
         "type": "string"
        },
        {
         "name": "num_sdoh_factors",
         "rawType": "int64",
         "type": "integer"
        }
       ],
       "ref": "a69bf8aa-6548-4656-a6df-20e856541147",
       "rows": [
        [
         "0",
         "sample",
         "1",
         "Lives with husband for whom patient is carer",
         "True",
         "Housing-Protective, Employment-Adverse",
         "2"
        ],
        [
         "1",
         "sample",
         "2",
         "Living on ready meals at present",
         "True",
         "FoodAccess-Adverse",
         "1"
        ],
        [
         "2",
         "sample",
         "3",
         "[PERSON] concerned that they may not be eating / drinking enough",
         "True",
         "FoodAccess-Adverse",
         "1"
        ],
        [
         "3",
         "sample",
         "4",
         "Carers in [REDACTED] times daily for patient to help with washing / dressing",
         "True",
         "Housing-Protective, Employment-Adverse",
         "2"
        ],
        [
         "4",
         "sample",
         "5",
         "Depending on side - effects of radiotherapy , patient may go on to PEG feeding",
         "True",
         "FoodAccess-Adverse",
         "1"
        ],
        [
         "5",
         "sample",
         "6",
         "Patient feeling slightly overwhelmed by everything",
         "True",
         "Loneliness-Adverse",
         "1"
        ],
        [
         "6",
         "sample",
         "7",
         "FPOC and Carers Support Shropshire numbers given to patient ’s daughter ( with patient consent ) but would value additional emotional support / befriending / check ins to make sure they are eating / drinking etc as all activities of daily living severely compromised at present",
         "True",
         "Loneliness-Adverse, Finances-NoSDoH, Housing-NoSDoH, FoodAccess-Adverse, Employment-NoSDoH, EnglishProficiency-NoSDoH",
         "6"
        ],
        [
         "7",
         "sample",
         "8",
         "Very supportive daughter who lives in [PERSON]",
         "True",
         "Loneliness-Protective, Housing-Adverse",
         "2"
        ],
        [
         "8",
         "sample",
         "9",
         "The patient is due to start radiotherapy on [REDACTED] January so support during this time would be particularly beneficial",
         "False",
         "NoSDoH",
         "0"
        ],
        [
         "9",
         "sample",
         "10",
         "Due to start radiotherapy on [REDACTED] at SATH EOS [REDACTED]",
         "False",
         "NoSDoH",
         "0"
        ]
       ],
       "shape": {
        "columns": 6,
        "rows": 10
       }
      },
      "text/html": [
       "<div>\n",
       "<style scoped>\n",
       "    .dataframe tbody tr th:only-of-type {\n",
       "        vertical-align: middle;\n",
       "    }\n",
       "\n",
       "    .dataframe tbody tr th {\n",
       "        vertical-align: top;\n",
       "    }\n",
       "\n",
       "    .dataframe thead th {\n",
       "        text-align: right;\n",
       "    }\n",
       "</style>\n",
       "<table border=\"1\" class=\"dataframe\">\n",
       "  <thead>\n",
       "    <tr style=\"text-align: right;\">\n",
       "      <th></th>\n",
       "      <th>note_id</th>\n",
       "      <th>sentence_number</th>\n",
       "      <th>sentence</th>\n",
       "      <th>has_sdoh</th>\n",
       "      <th>sdoh_factors</th>\n",
       "      <th>num_sdoh_factors</th>\n",
       "    </tr>\n",
       "  </thead>\n",
       "  <tbody>\n",
       "    <tr>\n",
       "      <th>0</th>\n",
       "      <td>sample</td>\n",
       "      <td>1</td>\n",
       "      <td>Lives with husband for whom patient is carer</td>\n",
       "      <td>True</td>\n",
       "      <td>Housing-Protective, Employment-Adverse</td>\n",
       "      <td>2</td>\n",
       "    </tr>\n",
       "    <tr>\n",
       "      <th>1</th>\n",
       "      <td>sample</td>\n",
       "      <td>2</td>\n",
       "      <td>Living on ready meals at present</td>\n",
       "      <td>True</td>\n",
       "      <td>FoodAccess-Adverse</td>\n",
       "      <td>1</td>\n",
       "    </tr>\n",
       "    <tr>\n",
       "      <th>2</th>\n",
       "      <td>sample</td>\n",
       "      <td>3</td>\n",
       "      <td>[PERSON] concerned that they may not be eating...</td>\n",
       "      <td>True</td>\n",
       "      <td>FoodAccess-Adverse</td>\n",
       "      <td>1</td>\n",
       "    </tr>\n",
       "    <tr>\n",
       "      <th>3</th>\n",
       "      <td>sample</td>\n",
       "      <td>4</td>\n",
       "      <td>Carers in [REDACTED] times daily for patient t...</td>\n",
       "      <td>True</td>\n",
       "      <td>Housing-Protective, Employment-Adverse</td>\n",
       "      <td>2</td>\n",
       "    </tr>\n",
       "    <tr>\n",
       "      <th>4</th>\n",
       "      <td>sample</td>\n",
       "      <td>5</td>\n",
       "      <td>Depending on side - effects of radiotherapy , ...</td>\n",
       "      <td>True</td>\n",
       "      <td>FoodAccess-Adverse</td>\n",
       "      <td>1</td>\n",
       "    </tr>\n",
       "    <tr>\n",
       "      <th>5</th>\n",
       "      <td>sample</td>\n",
       "      <td>6</td>\n",
       "      <td>Patient feeling slightly overwhelmed by everyt...</td>\n",
       "      <td>True</td>\n",
       "      <td>Loneliness-Adverse</td>\n",
       "      <td>1</td>\n",
       "    </tr>\n",
       "    <tr>\n",
       "      <th>6</th>\n",
       "      <td>sample</td>\n",
       "      <td>7</td>\n",
       "      <td>FPOC and Carers Support Shropshire numbers giv...</td>\n",
       "      <td>True</td>\n",
       "      <td>Loneliness-Adverse, Finances-NoSDoH, Housing-N...</td>\n",
       "      <td>6</td>\n",
       "    </tr>\n",
       "    <tr>\n",
       "      <th>7</th>\n",
       "      <td>sample</td>\n",
       "      <td>8</td>\n",
       "      <td>Very supportive daughter who lives in [PERSON]</td>\n",
       "      <td>True</td>\n",
       "      <td>Loneliness-Protective, Housing-Adverse</td>\n",
       "      <td>2</td>\n",
       "    </tr>\n",
       "    <tr>\n",
       "      <th>8</th>\n",
       "      <td>sample</td>\n",
       "      <td>9</td>\n",
       "      <td>The patient is due to start radiotherapy on [R...</td>\n",
       "      <td>False</td>\n",
       "      <td>NoSDoH</td>\n",
       "      <td>0</td>\n",
       "    </tr>\n",
       "    <tr>\n",
       "      <th>9</th>\n",
       "      <td>sample</td>\n",
       "      <td>10</td>\n",
       "      <td>Due to start radiotherapy on [REDACTED] at SAT...</td>\n",
       "      <td>False</td>\n",
       "      <td>NoSDoH</td>\n",
       "      <td>0</td>\n",
       "    </tr>\n",
       "  </tbody>\n",
       "</table>\n",
       "</div>"
      ],
      "text/plain": [
       "  note_id  sentence_number                                           sentence  \\\n",
       "0  sample                1       Lives with husband for whom patient is carer   \n",
       "1  sample                2                   Living on ready meals at present   \n",
       "2  sample                3  [PERSON] concerned that they may not be eating...   \n",
       "3  sample                4  Carers in [REDACTED] times daily for patient t...   \n",
       "4  sample                5  Depending on side - effects of radiotherapy , ...   \n",
       "5  sample                6  Patient feeling slightly overwhelmed by everyt...   \n",
       "6  sample                7  FPOC and Carers Support Shropshire numbers giv...   \n",
       "7  sample                8     Very supportive daughter who lives in [PERSON]   \n",
       "8  sample                9  The patient is due to start radiotherapy on [R...   \n",
       "9  sample               10  Due to start radiotherapy on [REDACTED] at SAT...   \n",
       "\n",
       "   has_sdoh                                       sdoh_factors  \\\n",
       "0      True             Housing-Protective, Employment-Adverse   \n",
       "1      True                                 FoodAccess-Adverse   \n",
       "2      True                                 FoodAccess-Adverse   \n",
       "3      True             Housing-Protective, Employment-Adverse   \n",
       "4      True                                 FoodAccess-Adverse   \n",
       "5      True                                 Loneliness-Adverse   \n",
       "6      True  Loneliness-Adverse, Finances-NoSDoH, Housing-N...   \n",
       "7      True             Loneliness-Protective, Housing-Adverse   \n",
       "8     False                                             NoSDoH   \n",
       "9     False                                             NoSDoH   \n",
       "\n",
       "   num_sdoh_factors  \n",
       "0                 2  \n",
       "1                 1  \n",
       "2                 1  \n",
       "3                 2  \n",
       "4                 1  \n",
       "5                 1  \n",
       "6                 6  \n",
       "7                 2  \n",
       "8                 0  \n",
       "9                 0  "
      ]
     },
     "metadata": {},
     "output_type": "display_data"
    }
   ],
   "source": [
    "from src.classification.SDoH_classification_helpers import SDoHExtractor\n",
    "\n",
    "# Initialize the SDoH extractor\n",
    "extractor = SDoHExtractor(\n",
    "    model=model,\n",
    "    tokenizer=tokenizer,\n",
    "    prompt_type=\"five_shot_basic\",\n",
    "    debug=True,\n",
    ")\n",
    "\n",
    "# Extract SDoH factors\n",
    "results = extractor.extract_from_note(sample_note)\n",
    "results_df = extractor.results_to_dataframe(results, note_id=\"sample\")\n",
    "\n",
    "print(\"\\nExtracted SDoH Factors:\")\n",
    "display(results_df)"
   ]
  },
  {
   "cell_type": "code",
   "execution_count": 9,
   "id": "c42d5832",
   "metadata": {},
   "outputs": [
    {
     "data": {
      "application/vnd.microsoft.datawrangler.viewer.v0+json": {
       "columns": [
        {
         "name": "index",
         "rawType": "int64",
         "type": "integer"
        },
        {
         "name": "note_id",
         "rawType": "object",
         "type": "string"
        },
        {
         "name": "sentence_number",
         "rawType": "int64",
         "type": "integer"
        },
        {
         "name": "sentence",
         "rawType": "object",
         "type": "string"
        },
        {
         "name": "has_sdoh",
         "rawType": "bool",
         "type": "boolean"
        },
        {
         "name": "sdoh_factors",
         "rawType": "object",
         "type": "string"
        },
        {
         "name": "num_sdoh_factors",
         "rawType": "int64",
         "type": "integer"
        }
       ],
       "ref": "dedbd937-25e1-4c8a-b64a-1c4d87abeb40",
       "rows": [
        [
         "0",
         "sample",
         "1",
         "Lives with husband for whom patient is carer",
         "True",
         "Housing-Protective, Employment-Adverse",
         "2"
        ],
        [
         "1",
         "sample",
         "2",
         "Living on ready meals at present",
         "True",
         "FoodAccess-Adverse",
         "1"
        ],
        [
         "2",
         "sample",
         "3",
         "[PERSON] concerned that they may not be eating / drinking enough",
         "True",
         "FoodAccess-Adverse",
         "1"
        ],
        [
         "3",
         "sample",
         "4",
         "Carers in [REDACTED] times daily for patient to help with washing / dressing",
         "True",
         "Housing-Protective, Employment-Adverse",
         "2"
        ],
        [
         "4",
         "sample",
         "5",
         "Depending on side - effects of radiotherapy , patient may go on to PEG feeding",
         "True",
         "FoodAccess-Adverse",
         "1"
        ]
       ],
       "shape": {
        "columns": 6,
        "rows": 5
       }
      },
      "text/html": [
       "<div>\n",
       "<style scoped>\n",
       "    .dataframe tbody tr th:only-of-type {\n",
       "        vertical-align: middle;\n",
       "    }\n",
       "\n",
       "    .dataframe tbody tr th {\n",
       "        vertical-align: top;\n",
       "    }\n",
       "\n",
       "    .dataframe thead th {\n",
       "        text-align: right;\n",
       "    }\n",
       "</style>\n",
       "<table border=\"1\" class=\"dataframe\">\n",
       "  <thead>\n",
       "    <tr style=\"text-align: right;\">\n",
       "      <th></th>\n",
       "      <th>note_id</th>\n",
       "      <th>sentence_number</th>\n",
       "      <th>sentence</th>\n",
       "      <th>has_sdoh</th>\n",
       "      <th>sdoh_factors</th>\n",
       "      <th>num_sdoh_factors</th>\n",
       "    </tr>\n",
       "  </thead>\n",
       "  <tbody>\n",
       "    <tr>\n",
       "      <th>0</th>\n",
       "      <td>sample</td>\n",
       "      <td>1</td>\n",
       "      <td>Lives with husband for whom patient is carer</td>\n",
       "      <td>True</td>\n",
       "      <td>Housing-Protective, Employment-Adverse</td>\n",
       "      <td>2</td>\n",
       "    </tr>\n",
       "    <tr>\n",
       "      <th>1</th>\n",
       "      <td>sample</td>\n",
       "      <td>2</td>\n",
       "      <td>Living on ready meals at present</td>\n",
       "      <td>True</td>\n",
       "      <td>FoodAccess-Adverse</td>\n",
       "      <td>1</td>\n",
       "    </tr>\n",
       "    <tr>\n",
       "      <th>2</th>\n",
       "      <td>sample</td>\n",
       "      <td>3</td>\n",
       "      <td>[PERSON] concerned that they may not be eating...</td>\n",
       "      <td>True</td>\n",
       "      <td>FoodAccess-Adverse</td>\n",
       "      <td>1</td>\n",
       "    </tr>\n",
       "    <tr>\n",
       "      <th>3</th>\n",
       "      <td>sample</td>\n",
       "      <td>4</td>\n",
       "      <td>Carers in [REDACTED] times daily for patient t...</td>\n",
       "      <td>True</td>\n",
       "      <td>Housing-Protective, Employment-Adverse</td>\n",
       "      <td>2</td>\n",
       "    </tr>\n",
       "    <tr>\n",
       "      <th>4</th>\n",
       "      <td>sample</td>\n",
       "      <td>5</td>\n",
       "      <td>Depending on side - effects of radiotherapy , ...</td>\n",
       "      <td>True</td>\n",
       "      <td>FoodAccess-Adverse</td>\n",
       "      <td>1</td>\n",
       "    </tr>\n",
       "  </tbody>\n",
       "</table>\n",
       "</div>"
      ],
      "text/plain": [
       "  note_id  sentence_number                                           sentence  \\\n",
       "0  sample                1       Lives with husband for whom patient is carer   \n",
       "1  sample                2                   Living on ready meals at present   \n",
       "2  sample                3  [PERSON] concerned that they may not be eating...   \n",
       "3  sample                4  Carers in [REDACTED] times daily for patient t...   \n",
       "4  sample                5  Depending on side - effects of radiotherapy , ...   \n",
       "\n",
       "   has_sdoh                            sdoh_factors  num_sdoh_factors  \n",
       "0      True  Housing-Protective, Employment-Adverse                 2  \n",
       "1      True                      FoodAccess-Adverse                 1  \n",
       "2      True                      FoodAccess-Adverse                 1  \n",
       "3      True  Housing-Protective, Employment-Adverse                 2  \n",
       "4      True                      FoodAccess-Adverse                 1  "
      ]
     },
     "execution_count": 9,
     "metadata": {},
     "output_type": "execute_result"
    }
   ],
   "source": [
    "results_df.head()"
   ]
  },
  {
   "cell_type": "code",
   "execution_count": null,
   "id": "82ffead8",
   "metadata": {},
   "outputs": [],
   "source": [
    "# Some debugging\n",
    "print(\"Prompt: \\n\")\n",
    "print(results['sentences'][1]['debug']['prompt'])\n",
    "\n",
    "print(\"Raw response: \\n\")\n",
    "print(results['sentences'][1]['debug']['raw_response'])"
   ]
  },
  {
   "cell_type": "markdown",
   "id": "8016e3df",
   "metadata": {},
   "source": [
    "### 1.3. Evaluating few-shot extraction on test set"
   ]
  },
  {
   "cell_type": "code",
   "execution_count": 10,
   "id": "edaf5afb",
   "metadata": {},
   "outputs": [
    {
     "name": "stdout",
     "output_type": "stream",
     "text": [
      "Loading meta-llama/Llama-3.1-8B-Instruct...\n"
     ]
    },
    {
     "data": {
      "application/vnd.jupyter.widget-view+json": {
       "model_id": "1602a9a063aa4dc8b462292ffb9ed9cf",
       "version_major": 2,
       "version_minor": 0
      },
      "text/plain": [
       "Loading checkpoint shards:   0%|          | 0/4 [00:00<?, ?it/s]"
      ]
     },
     "metadata": {},
     "output_type": "display_data"
    },
    {
     "name": "stdout",
     "output_type": "stream",
     "text": [
      "✓ meta-llama/Llama-3.1-8B-Instruct loaded successfully!\n"
     ]
    }
   ],
   "source": [
    "# Set desired model and prompt config\n",
    "MODEL_NAME = \"meta-llama/Llama-3.1-8B-Instruct\"\n",
    "PROMPT_TYPE = \"five_shot_basic\"\n",
    "\n",
    "# Load model and tokenizer\n",
    "from src.classification.model_helpers import load_instruction_model\n",
    "from src.classification.SDoH_classification_helpers import SDoHExtractor\n",
    "\n",
    "tokenizer, model = load_instruction_model(MODEL_NAME)\n",
    "\n",
    "# Confirm it's loaded\n",
    "if tokenizer is None or model is None:\n",
    "    raise ValueError(f\"Failed to load model: {MODEL_NAME}\")\n",
    "\n",
    "# Create extractor using your standard constructor\n",
    "extractor = SDoHExtractor(\n",
    "    model=model,\n",
    "    tokenizer=tokenizer,\n",
    "    prompt_type=PROMPT_TYPE,\n",
    "    debug=False\n",
    ")"
   ]
  },
  {
   "cell_type": "code",
   "execution_count": 22,
   "id": "322a6a8a",
   "metadata": {},
   "outputs": [],
   "source": [
    "from sklearn.metrics import classification_report, f1_score\n",
    "from sklearn.preprocessing import MultiLabelBinarizer\n",
    "from tqdm import tqdm\n",
    "\n",
    "# === Step 1: Load test set ===\n",
    "test_df = pd.read_csv(\"../data/processed/train-test/test_set.csv\")\n",
    "test_df[\"label_pair\"] = test_df[\"label_pair\"].apply(eval)"
   ]
  },
  {
   "cell_type": "code",
   "execution_count": 23,
   "id": "266ac322",
   "metadata": {},
   "outputs": [
    {
     "name": "stderr",
     "output_type": "stream",
     "text": [
      "100%|██████████| 243/243 [02:08<00:00,  1.89it/s]"
     ]
    },
    {
     "name": "stdout",
     "output_type": "stream",
     "text": [
      "Few-Shot Classification Report:\n",
      "\n",
      "                            precision    recall  f1-score   support\n",
      "\n",
      "           Digital-Adverse       0.40      0.67      0.50         6\n",
      "        Digital-Protective       0.00      0.00      0.00         1\n",
      "        Employment-Adverse       0.17      1.00      0.29         3\n",
      "     Employment-Protective       0.00      0.00      0.00         1\n",
      "EnglishProficiency-Adverse       0.40      1.00      0.57         2\n",
      "          Finances-Adverse       0.38      0.82      0.52        17\n",
      "       Finances-Protective       0.00      0.00      0.00         1\n",
      "        FoodAccess-Adverse       0.94      0.85      0.89        20\n",
      "     FoodAccess-Protective       0.50      1.00      0.67         1\n",
      "           Housing-Adverse       0.44      0.71      0.55        28\n",
      "        Housing-Protective       0.12      1.00      0.22         1\n",
      "        Loneliness-Adverse       0.57      0.69      0.63        39\n",
      "     Loneliness-Protective       0.50      0.57      0.53         7\n",
      "                    NoSDoH       0.86      0.80      0.83       144\n",
      "\n",
      "                 micro avg       0.62      0.77      0.69       271\n",
      "                 macro avg       0.38      0.65      0.44       271\n",
      "              weighted avg       0.71      0.77      0.72       271\n",
      "               samples avg       0.71      0.77      0.73       271\n",
      "\n",
      "\n",
      "Saved evaluation results to: ../results/eval/few_shot_eval_30_06.csv\n"
     ]
    },
    {
     "name": "stderr",
     "output_type": "stream",
     "text": [
      "\n",
      "/opt/anaconda/envs/keble8263-sdoh-extraction/lib/python3.10/site-packages/sklearn/preprocessing/_label.py:909: UserWarning: unknown class(es) ['Digital-NoSDoH', 'Employment-NoSDoH', 'EnglishProficiency-NoSDoH', 'Finances-NoSDoH', 'FoodAccess-NoSDoH', 'Housing-NoSDoH', 'Loneliness-NoSDoH'] will be ignored\n",
      "  warnings.warn(\n",
      "/opt/anaconda/envs/keble8263-sdoh-extraction/lib/python3.10/site-packages/sklearn/metrics/_classification.py:1565: UndefinedMetricWarning: Precision is ill-defined and being set to 0.0 in labels with no predicted samples. Use `zero_division` parameter to control this behavior.\n",
      "  _warn_prf(average, modifier, f\"{metric.capitalize()} is\", len(result))\n",
      "/opt/anaconda/envs/keble8263-sdoh-extraction/lib/python3.10/site-packages/sklearn/metrics/_classification.py:1565: UndefinedMetricWarning: Precision is ill-defined and being set to 0.0 in samples with no predicted labels. Use `zero_division` parameter to control this behavior.\n",
      "  _warn_prf(average, modifier, f\"{metric.capitalize()} is\", len(result))\n"
     ]
    }
   ],
   "source": [
    "# === Step 2: Run model inference using extractor ===\n",
    "y_true = []\n",
    "y_pred = []\n",
    "sentences = []\n",
    "\n",
    "for _, row in tqdm(test_df.iterrows(), total=len(test_df)):\n",
    "    sentence = row[\"Sentence\"]\n",
    "    gold = sorted(row[\"label_pair\"])\n",
    "    \n",
    "    result = extractor.extract_from_sentence(sentence)\n",
    "    pred = sorted(result[\"sdoh_factors\"])  # list of predicted labels\n",
    "    \n",
    "    y_true.append(gold)\n",
    "    y_pred.append(pred)\n",
    "    sentences.append(sentence)\n",
    "\n",
    "# === Step 3: Binarize for multilabel metrics ===\n",
    "mlb = MultiLabelBinarizer()\n",
    "y_true_bin = mlb.fit_transform(y_true)\n",
    "y_pred_bin = mlb.transform(y_pred)  # must not refit — only transform\n",
    "\n",
    "# === Step 4: Print F1 scores ===\n",
    "print(\"Few-Shot Classification Report:\\n\")\n",
    "print(classification_report(y_true_bin, y_pred_bin, target_names=mlb.classes_))\n",
    "\n",
    "# === Step 5: Save CSV for manual inspection ===\n",
    "eval_results_df = pd.DataFrame({\n",
    "    \"Sentence\": sentences,\n",
    "    \"Gold Labels\": [\", \".join(lbls) for lbls in y_true],\n",
    "    \"Predicted Labels\": [\", \".join(lbls) for lbls in y_pred],\n",
    "    \"Exact Match\": [set(t) == set(p) for t, p in zip(y_true, y_pred)]\n",
    "})\n",
    "\n",
    "eval_results_df.to_csv(\"../results/eval/few_shot_eval_30_06.csv\", index=False)\n",
    "print(\"\\nSaved evaluation results to: ../results/eval/few_shot_eval_30_06.csv\")"
   ]
  },
  {
   "cell_type": "code",
   "execution_count": 24,
   "id": "5bc1eab0",
   "metadata": {},
   "outputs": [
    {
     "name": "stdout",
     "output_type": "stream",
     "text": [
      "\n",
      "Saved classification report to: ../results/eval/few_shot_eval_report_30_06.csv\n"
     ]
    },
    {
     "name": "stderr",
     "output_type": "stream",
     "text": [
      "/opt/anaconda/envs/keble8263-sdoh-extraction/lib/python3.10/site-packages/sklearn/metrics/_classification.py:1565: UndefinedMetricWarning: Precision is ill-defined and being set to 0.0 in labels with no predicted samples. Use `zero_division` parameter to control this behavior.\n",
      "  _warn_prf(average, modifier, f\"{metric.capitalize()} is\", len(result))\n",
      "/opt/anaconda/envs/keble8263-sdoh-extraction/lib/python3.10/site-packages/sklearn/metrics/_classification.py:1565: UndefinedMetricWarning: Precision is ill-defined and being set to 0.0 in samples with no predicted labels. Use `zero_division` parameter to control this behavior.\n",
      "  _warn_prf(average, modifier, f\"{metric.capitalize()} is\", len(result))\n"
     ]
    }
   ],
   "source": [
    "# Generate report as dict\n",
    "report_dict = classification_report(\n",
    "    y_true_bin,\n",
    "    y_pred_bin,\n",
    "    target_names=mlb.classes_,\n",
    "    output_dict=True\n",
    ")\n",
    "\n",
    "# Convert to DataFrame\n",
    "report_df = pd.DataFrame(report_dict).transpose()\n",
    "\n",
    "# Save to CSV\n",
    "report_path = \"../results/eval/few_shot_eval_report_30_06.csv\"\n",
    "report_df.to_csv(report_path)\n",
    "print(f\"\\nSaved classification report to: {report_path}\")"
   ]
  }
 ],
 "metadata": {
  "kernelspec": {
   "display_name": "keble8263-sdoh-extraction",
   "language": "python",
   "name": "python3"
  },
  "language_info": {
   "codemirror_mode": {
    "name": "ipython",
    "version": 3
   },
   "file_extension": ".py",
   "mimetype": "text/x-python",
   "name": "python",
   "nbconvert_exporter": "python",
   "pygments_lexer": "ipython3",
   "version": "3.10.17"
  }
 },
 "nbformat": 4,
 "nbformat_minor": 5
}
