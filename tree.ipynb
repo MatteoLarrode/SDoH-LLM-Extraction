{
 "cells": [
  {
   "cell_type": "code",
   "execution_count": 1,
   "id": "60b135c6",
   "metadata": {},
   "outputs": [
    {
     "name": "stdout",
     "output_type": "stream",
     "text": [
      ".\n",
      "├── .gitignore\n",
      "├── README.md\n",
      "├── data\n",
      "│   ├── processed\n",
      "│   │   ├── annotations\n",
      "│   │   ├── brc-cleaned\n",
      "│   │   └── merged\n",
      "│   └── raw\n",
      "│       ├── Annotated-MIMIC-III-Data\n",
      "│       └── BRC-Data\n",
      "├── environment.yml\n",
      "├── notebooks\n",
      "│   ├── 01_data_cleaning.ipynb\n",
      "│   ├── 02_annotation.ipynb\n",
      "│   ├── 03_exraction_pipeline.ipynb\n",
      "│   ├── 04_fine_tuning.ipynb\n",
      "│   └── 05_analysis.ipynb\n",
      "├── results\n",
      "│   ├── annotation_evaluation\n",
      "│   │   ├── 17_06\n",
      "│   │   ├── level2_eval_Llama_3.1_8B_Instruct_five_shot_basic_L2_20250617_023823.csv\n",
      "│   │   └── level2_metrics_Llama_3.1_8B_Instruct_five_shot_basic_L2_20250617_023823.json\n",
      "│   ├── batch_results\n",
      "│   │   └── comparison_batch_07_06\n",
      "│   └── figures\n",
      "├── scripts\n",
      "│   ├── evaluation\n",
      "│   │   ├── evaluate_on_annotations.py\n",
      "│   │   └── run_multi_model_eval.sh\n",
      "│   └── sdoh-extraction\n",
      "│       ├── batch_process_notes.py\n",
      "│       └── run_multiple_batches.py\n",
      "├── src\n",
      "│   ├── annotation\n",
      "│   ├── classification\n",
      "│   │   ├── SDoH_classification_helpers.py\n",
      "│   │   ├── batch_processing_helpers.py\n",
      "│   │   ├── model_helpers.py\n",
      "│   │   └── prompt_creation_helpers.py\n",
      "│   ├── config\n",
      "│   ├── data_cleaning\n",
      "│   │   └── data_cleaning_helpers.py\n",
      "│   └── evaluation\n",
      "│       ├── evaluation_helpers_lvl1.py\n",
      "│       └── evaluation_helpers_lvl2.py\n",
      "├── streamlit_app\n",
      "│   ├── app.py\n",
      "│   ├── components\n",
      "│   │   ├── __init__.py\n",
      "│   │   ├── data_manager.py\n",
      "│   │   ├── dataset_browser.py\n",
      "│   │   ├── display_utils.py\n",
      "│   │   ├── model_manager.py\n",
      "│   │   └── tabs.py\n",
      "│   └── config.py\n",
      "└── tree.ipynb\n"
     ]
    }
   ],
   "source": [
    "import os\n",
    "\n",
    "def print_tree(start_path='.', max_depth=3, prefix=''):\n",
    "    def tree(dir_path, depth, prefix):\n",
    "        if depth > max_depth:\n",
    "            return\n",
    "        files = sorted(os.listdir(dir_path))\n",
    "        files = [f for f in files if f not in {'.git', '__pycache__', '.ipynb_checkpoints'}]\n",
    "        for i, name in enumerate(files):\n",
    "            path = os.path.join(dir_path, name)\n",
    "            connector = '└── ' if i == len(files) - 1 else '├── '\n",
    "            print(prefix + connector + name)\n",
    "            if os.path.isdir(path):\n",
    "                extension = '    ' if i == len(files) - 1 else '│   '\n",
    "                tree(path, depth + 1, prefix + extension)\n",
    "\n",
    "    print(start_path)\n",
    "    tree(start_path, 1, '')\n",
    "\n",
    "# Run it\n",
    "print_tree('.', max_depth=3)"
   ]
  }
 ],
 "metadata": {
  "kernelspec": {
   "display_name": "keble8263-sdoh-extraction",
   "language": "python",
   "name": "python3"
  },
  "language_info": {
   "codemirror_mode": {
    "name": "ipython",
    "version": 3
   },
   "file_extension": ".py",
   "mimetype": "text/x-python",
   "name": "python",
   "nbconvert_exporter": "python",
   "pygments_lexer": "ipython3",
   "version": "3.10.17"
  }
 },
 "nbformat": 4,
 "nbformat_minor": 5
}
